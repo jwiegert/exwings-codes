{
 "cells": [
  {
   "cell_type": "markdown",
   "metadata": {},
   "source": [
    "# Explorations and tests with the heavier data-star\n",
    "\n",
    "- dst28gm06n052\n",
    "\n",
    "st28gm06n052_186.sav\n",
    "\n",
    "st28gm06n052_190.sav\n",
    "\n",
    "st28gm06n052_198.sav"
   ]
  },
  {
   "cell_type": "code",
   "execution_count": 15,
   "metadata": {},
   "outputs": [
    {
     "name": "stderr",
     "output_type": "stream",
     "text": [
      "/usr/lib/python3/dist-packages/scipy/io/idl.py:469: UserWarning: Using experimental 64-bit array read\n",
      "  warnings.warn(\"Using experimental 64-bit array read\")\n"
     ]
    },
    {
     "name": "stdout",
     "output_type": "stream",
     "text": [
      "[b'Parameter file for RHD code:'\n",
      " b'3D dusty AGB star model: 1 M_Sun, 355 R_Sun, L=7000 L_Sun'\n",
      " b'Start model st28gm06n052_001.sta with 679^3 points'\n",
      " b'  based on st28gm06n050_300.end,'\n",
      " b'  extended inner and outer grid with rhd_manipulate.pro'\n",
      " b'Code version 2020-02-06:  MPI + OpenMP'\n",
      " b'Non-interacting forsterite+corundum dust, ar_dustrainabu: 3.0E-16'\n",
      " b'Non-grey 3-cluster opacity table:'\n",
      " b'  t2800gm050mm00_coma_opal_paola_oc1r_b3_n04.opta'\n",
      " b'\"Big Box\" buffer layer: N_radThinPoint=101+6, radThinHeatScheme=ConstantLum'\n",
      " b'Radiation pressure: radThinPressScheme=ConstantLum'\n",
      " b'From n034 on: c_radthintfactor=0.75->0.77']\n",
      "(679, 679, 679)\n",
      "[[-339  339]\n",
      " [-339  339]\n",
      " [-339  339]]\n",
      "Minimum cell: 0.02582559459671921 AU\n",
      "Total size of grid: 29.79639527908983 AU\n"
     ]
    }
   ],
   "source": [
    "# Check stellar props\n",
    "from scipy.io.idl import readsav\n",
    "import numpy as np\n",
    "import analyze_co5bold_functions as c5d\n",
    "\n",
    "teststar = readsav('../co5bold_data/dst28gm06n052/st28gm06n052_186.sav')\n",
    "teststar = teststar['ful']\n",
    "\n",
    "# Star's props\n",
    "print(teststar['PAR'][0][0][2])\n",
    "\n",
    "#Grid's props\n",
    "# Size of grid\n",
    "print(np.shape(teststar['EOS'][0][0][0]))\n",
    "\n",
    "# Number of cells along each axis\n",
    "print(teststar['Z'][0][0][4])\n",
    "\n",
    "# Minimum cellsize:\n",
    "AUcm = 1.49598e13 # cm\n",
    "c5dgrid,cellcourners,cellsize = c5d.load_grid_properties(\n",
    "    savpath='../co5bold_data/dst28gm06n052/st28gm06n052_186.sav'\n",
    ")\n",
    "\n",
    "print(f'Minimum cell: {cellsize/AUcm} AU')\n",
    "print(f'Total size of grid: {(np.max(cellcourners)-np.min(cellcourners))/AUcm} AU')\n",
    "\n",
    "# '3D dusty AGB star model: 1 M_Sun, 355 R_Sun, L=7000 L_Sun'\n",
    "# > Teff = 2800K\n",
    "\n"
   ]
  },
  {
   "cell_type": "code",
   "execution_count": 17,
   "metadata": {},
   "outputs": [
    {
     "name": "stdout",
     "output_type": "stream",
     "text": [
      "Creating amr_grid with octree refinement.\n",
      "Final length of total side of whole grid: 29.759999999999998 AU\n",
      "Number of base cells along one side of the grid: 62\n",
      "Distances to outer refinement limits from centrum: [9.5, 5.5, 3.5, 2.5] AU\n",
      "Distances to inner refinement limits from centrum: [0.325, 0.65, 0.9750000000000001, 1.3] AU\n",
      "Number refinements: 4\n",
      "Size of base cell: 0.48 AU\n",
      "Child cell size 1: 0.24 AU\n",
      "Child cell size 2: 0.12 AU\n",
      "Child cell size 3: 0.06 AU\n",
      "Child cell size 4: 0.03 AU\n",
      "Writing amr_grid.inp\n",
      "Writing grid_distances.csv and grid_cellsizes.csv\n",
      "(Not necessary for Radmc3d, but useful for pre/portprocessing of your model. They have the same order as dust_densities.inp)\n",
      "Writing grid_info.txt\n",
      "Create grid:\n",
      "    amr_grid.inp\n",
      "     grid_info.txt\n",
      "    grid_distances.csv\n",
      "    grid_cellsizes.csv\n",
      "DONE\n",
      "\n"
     ]
    }
   ],
   "source": [
    "# Create grid\n",
    "import create_r3d_functions as c3d\n",
    "\n",
    "# Smallest c5d cells are 0.026 AU\n",
    "# Radius of star: 1.651AU (355 Rsun)\n",
    "# Settings for the grid\n",
    "AUcm = 1.49598e13 # cm\n",
    "r3dedge = 29.796 * AUcm # Size of whole grid\n",
    "basecell = 0.03*AUcm * 2**4 # Size of base cell (smallest cell is 0.03 AU)\n",
    "nxyz = r3dedge/basecell\n",
    "refinementlist_au = [9.5, 5.5, 3.5, 2.5]\n",
    "refinementlist = [refs*AUcm for refs in refinementlist_au]\n",
    "\n",
    "c3d.create_grid(\n",
    "    gridedge=r3dedge/AUcm, \n",
    "    nxyz=nxyz, \n",
    "    refinementlist=refinementlist_au, \n",
    "    inrefine=0.13, \n",
    "    savegrid=True\n",
    ")\n",
    "\n",
    "# If I didn't have it already, create wavelength-grid here also!"
   ]
  },
  {
   "cell_type": "code",
   "execution_count": 1,
   "metadata": {},
   "outputs": [
    {
     "name": "stdout",
     "output_type": "stream",
     "text": [
      "Doing phase: 186\n",
      "Loading R3D grid\n",
      "Loading C5D grid properties\n"
     ]
    },
    {
     "name": "stderr",
     "output_type": "stream",
     "text": [
      "/usr/lib/python3/dist-packages/scipy/io/idl.py:469: UserWarning: Using experimental 64-bit array read\n",
      "  warnings.warn(\"Using experimental 64-bit array read\")\n"
     ]
    },
    {
     "name": "stdout",
     "output_type": "stream",
     "text": [
      "Loading C5D star properties (density, temperature, opacity)\n",
      "Translating C5D data to R3D data\n",
      "Finished 25 per cent of the grid.\n",
      "Finished 50 per cent of the grid.\n",
      "Finished 75 per cent of the grid.\n",
      "C5D Dust-star:\n",
      "    dust_density_onestar.inp\n",
      "    dust_temperature_onestar.dat\n",
      "    star_opacities.dat\n",
      "DONE\n",
      "\n",
      "Moving files\n",
      "Doing phase: 190\n",
      "Loading R3D grid\n",
      "Loading C5D grid properties\n",
      "Loading C5D star properties (density, temperature, opacity)\n",
      "Translating C5D data to R3D data\n",
      "Finished 25 per cent of the grid.\n",
      "Finished 50 per cent of the grid.\n",
      "Finished 75 per cent of the grid.\n",
      "C5D Dust-star:\n",
      "    dust_density_onestar.inp\n",
      "    dust_temperature_onestar.dat\n",
      "    star_opacities.dat\n",
      "DONE\n",
      "\n",
      "Moving files\n",
      "Doing phase: 198\n",
      "Loading R3D grid\n",
      "Loading C5D grid properties\n",
      "Loading C5D star properties (density, temperature, opacity)\n"
     ]
    },
    {
     "ename": "KeyboardInterrupt",
     "evalue": "",
     "output_type": "error",
     "traceback": [
      "\u001b[0;31m---------------------------------------------------------------------------\u001b[0m",
      "\u001b[0;31mKeyboardInterrupt\u001b[0m                         Traceback (most recent call last)",
      "\u001b[1;32m/home/joachim/exwings/exwings-codes/explore_large_c5dstar.ipynb Cell 4'\u001b[0m in \u001b[0;36m<cell line: 9>\u001b[0;34m()\u001b[0m\n\u001b[1;32m      <a href='vscode-notebook-cell:/home/joachim/exwings/exwings-codes/explore_large_c5dstar.ipynb#ch0000005?line=8'>9</a>\u001b[0m \u001b[39mfor\u001b[39;00m phase \u001b[39min\u001b[39;00m [\u001b[39m'\u001b[39m\u001b[39m186\u001b[39m\u001b[39m'\u001b[39m,\u001b[39m'\u001b[39m\u001b[39m190\u001b[39m\u001b[39m'\u001b[39m,\u001b[39m'\u001b[39m\u001b[39m198\u001b[39m\u001b[39m'\u001b[39m]:\n\u001b[1;32m     <a href='vscode-notebook-cell:/home/joachim/exwings/exwings-codes/explore_large_c5dstar.ipynb#ch0000005?line=9'>10</a>\u001b[0m     \u001b[39mprint\u001b[39m(\u001b[39mf\u001b[39m\u001b[39m'\u001b[39m\u001b[39mDoing phase: \u001b[39m\u001b[39m{\u001b[39;00mphase\u001b[39m}\u001b[39;00m\u001b[39m'\u001b[39m)\n\u001b[0;32m---> <a href='vscode-notebook-cell:/home/joachim/exwings/exwings-codes/explore_large_c5dstar.ipynb#ch0000005?line=11'>12</a>\u001b[0m     a5d\u001b[39m.\u001b[39;49mcreate_star(\n\u001b[1;32m     <a href='vscode-notebook-cell:/home/joachim/exwings/exwings-codes/explore_large_c5dstar.ipynb#ch0000005?line=12'>13</a>\u001b[0m         savpath\u001b[39m=\u001b[39;49m\u001b[39mf\u001b[39;49m\u001b[39m'\u001b[39;49m\u001b[39m../co5bold_data/dst28gm06n052/st28gm06n052_\u001b[39;49m\u001b[39m{\u001b[39;49;00mphase\u001b[39m}\u001b[39;49;00m\u001b[39m.sav\u001b[39;49m\u001b[39m'\u001b[39;49m,\n\u001b[1;32m     <a href='vscode-notebook-cell:/home/joachim/exwings/exwings-codes/explore_large_c5dstar.ipynb#ch0000005?line=13'>14</a>\u001b[0m         amrpath\u001b[39m=\u001b[39;49mpath\u001b[39m+\u001b[39;49m\u001b[39m'\u001b[39;49m\u001b[39mamr_grid.inp\u001b[39;49m\u001b[39m'\u001b[39;49m,\n\u001b[1;32m     <a href='vscode-notebook-cell:/home/joachim/exwings/exwings-codes/explore_large_c5dstar.ipynb#ch0000005?line=14'>15</a>\u001b[0m         gridpath\u001b[39m=\u001b[39;49mpath\u001b[39m+\u001b[39;49m\u001b[39m'\u001b[39;49m\u001b[39mgrid_distances.csv\u001b[39;49m\u001b[39m'\u001b[39;49m,\n\u001b[1;32m     <a href='vscode-notebook-cell:/home/joachim/exwings/exwings-codes/explore_large_c5dstar.ipynb#ch0000005?line=15'>16</a>\u001b[0m         sizepath\u001b[39m=\u001b[39;49mpath\u001b[39m+\u001b[39;49m\u001b[39m'\u001b[39;49m\u001b[39mgrid_cellsizes.csv\u001b[39;49m\u001b[39m'\u001b[39;49m\n\u001b[1;32m     <a href='vscode-notebook-cell:/home/joachim/exwings/exwings-codes/explore_large_c5dstar.ipynb#ch0000005?line=16'>17</a>\u001b[0m     )\n\u001b[1;32m     <a href='vscode-notebook-cell:/home/joachim/exwings/exwings-codes/explore_large_c5dstar.ipynb#ch0000005?line=18'>19</a>\u001b[0m     \u001b[39mprint\u001b[39m(\u001b[39m'\u001b[39m\u001b[39mMoving files\u001b[39m\u001b[39m'\u001b[39m)\n\u001b[1;32m     <a href='vscode-notebook-cell:/home/joachim/exwings/exwings-codes/explore_large_c5dstar.ipynb#ch0000005?line=19'>20</a>\u001b[0m     os\u001b[39m.\u001b[39msystem(\u001b[39mf\u001b[39m\u001b[39m'\u001b[39m\u001b[39mmv ../dust_density_onestar.inp \u001b[39m\u001b[39m{\u001b[39;00mpath\u001b[39m}\u001b[39;00m\u001b[39m9species_\u001b[39m\u001b[39m{\u001b[39;00mphase\u001b[39m}\u001b[39;00m\u001b[39m/dust_density_onestar.inp\u001b[39m\u001b[39m'\u001b[39m)\n",
      "File \u001b[0;32m~/exwings/exwings-codes/analyze_co5bold_functions.py:300\u001b[0m, in \u001b[0;36mcreate_star\u001b[0;34m(savpath, amrpath, gridpath, sizepath)\u001b[0m\n\u001b[1;32m    <a href='file:///home/joachim/exwings/exwings-codes/analyze_co5bold_functions.py?line=292'>293</a>\u001b[0m     temperature \u001b[39m=\u001b[39m np\u001b[39m.\u001b[39marray(temperatures[nn])\n\u001b[1;32m    <a href='file:///home/joachim/exwings/exwings-codes/analyze_co5bold_functions.py?line=294'>295</a>\u001b[0m     ax\u001b[39m.\u001b[39mplot(\n\u001b[1;32m    <a href='file:///home/joachim/exwings/exwings-codes/analyze_co5bold_functions.py?line=295'>296</a>\u001b[0m         temperature[np\u001b[39m.\u001b[39mwhere(temperature \u001b[39m>\u001b[39m \u001b[39m0\u001b[39m)[\u001b[39m0\u001b[39m]],\n\u001b[1;32m    <a href='file:///home/joachim/exwings/exwings-codes/analyze_co5bold_functions.py?line=296'>297</a>\u001b[0m         opacity[np\u001b[39m.\u001b[39mwhere(temperature \u001b[39m>\u001b[39m \u001b[39m0\u001b[39m)[\u001b[39m0\u001b[39m]],\n\u001b[1;32m    <a href='file:///home/joachim/exwings/exwings-codes/analyze_co5bold_functions.py?line=297'>298</a>\u001b[0m         markeredgecolor\u001b[39m=\u001b[39mc,linestyle\u001b[39m=\u001b[39m\u001b[39m'\u001b[39m\u001b[39m'\u001b[39m,marker\u001b[39m=\u001b[39m\u001b[39m'\u001b[39m\u001b[39m.\u001b[39m\u001b[39m'\u001b[39m,markersize\u001b[39m=\u001b[39m\u001b[39m1\u001b[39m\n\u001b[1;32m    <a href='file:///home/joachim/exwings/exwings-codes/analyze_co5bold_functions.py?line=298'>299</a>\u001b[0m     )\n\u001b[0;32m--> <a href='file:///home/joachim/exwings/exwings-codes/analyze_co5bold_functions.py?line=299'>300</a>\u001b[0m ax\u001b[39m.\u001b[39mset(\n\u001b[1;32m    <a href='file:///home/joachim/exwings/exwings-codes/analyze_co5bold_functions.py?line=300'>301</a>\u001b[0m     xlabel\u001b[39m=\u001b[39m\u001b[39mr\u001b[39m\u001b[39m'\u001b[39m\u001b[39mCell temperature (K)\u001b[39m\u001b[39m'\u001b[39m,\n\u001b[1;32m    <a href='file:///home/joachim/exwings/exwings-codes/analyze_co5bold_functions.py?line=301'>302</a>\u001b[0m     ylabel\u001b[39m=\u001b[39m\u001b[39mr\u001b[39m\u001b[39m'\u001b[39m\u001b[39m$\u001b[39m\u001b[39m\\\u001b[39m\u001b[39mkappa_\u001b[39m\u001b[39m{\u001b[39m\u001b[39m\\\u001b[39m\u001b[39mrm abs}$ (cm$^2$/g)\u001b[39m\u001b[39m'\u001b[39m,\n\u001b[1;32m    <a href='file:///home/joachim/exwings/exwings-codes/analyze_co5bold_functions.py?line=302'>303</a>\u001b[0m     yscale\u001b[39m=\u001b[39m\u001b[39m'\u001b[39m\u001b[39mlog\u001b[39m\u001b[39m'\u001b[39m,\n\u001b[1;32m    <a href='file:///home/joachim/exwings/exwings-codes/analyze_co5bold_functions.py?line=303'>304</a>\u001b[0m     title\u001b[39m=\u001b[39m\u001b[39mf\u001b[39m\u001b[39m'\u001b[39m\u001b[39mDust species 1 to \u001b[39m\u001b[39m{\u001b[39;00mNspec\u001b[39m}\u001b[39;00m\u001b[39m'\u001b[39m\n\u001b[1;32m    <a href='file:///home/joachim/exwings/exwings-codes/analyze_co5bold_functions.py?line=304'>305</a>\u001b[0m )\n\u001b[1;32m    <a href='file:///home/joachim/exwings/exwings-codes/analyze_co5bold_functions.py?line=305'>306</a>\u001b[0m fig\u001b[39m.\u001b[39mtight_layout()\n\u001b[1;32m    <a href='file:///home/joachim/exwings/exwings-codes/analyze_co5bold_functions.py?line=306'>307</a>\u001b[0m fig\u001b[39m.\u001b[39mshow()\n",
      "File \u001b[0;32m~/exwings/exwings-codes/analyze_co5bold_functions.py:145\u001b[0m, in \u001b[0;36mload_star_properties\u001b[0;34m(savpath)\u001b[0m\n\u001b[1;32m    <a href='file:///home/joachim/exwings/exwings-codes/analyze_co5bold_functions.py?line=142'>143</a>\u001b[0m \u001b[39mfor\u001b[39;00m ny \u001b[39min\u001b[39;00m \u001b[39mrange\u001b[39m(nc5dedge):\n\u001b[1;32m    <a href='file:///home/joachim/exwings/exwings-codes/analyze_co5bold_functions.py?line=143'>144</a>\u001b[0m     \u001b[39mfor\u001b[39;00m nz \u001b[39min\u001b[39;00m \u001b[39mrange\u001b[39m(nc5dedge):\n\u001b[0;32m--> <a href='file:///home/joachim/exwings/exwings-codes/analyze_co5bold_functions.py?line=144'>145</a>\u001b[0m         c5dstar_densities[nx,ny,nz] \u001b[39m=\u001b[39m c5ddata[\u001b[39m'\u001b[39m\u001b[39mZ\u001b[39m\u001b[39m'\u001b[39m][\u001b[39m0\u001b[39m][\u001b[39m0\u001b[39m][\u001b[39m34\u001b[39m][nx][ny][nz]\n\u001b[1;32m    <a href='file:///home/joachim/exwings/exwings-codes/analyze_co5bold_functions.py?line=145'>146</a>\u001b[0m         c5dstar_temperatures[nx,ny,nz] \u001b[39m=\u001b[39m c5ddata[\u001b[39m'\u001b[39m\u001b[39mEOS\u001b[39m\u001b[39m'\u001b[39m][\u001b[39m0\u001b[39m][\u001b[39m0\u001b[39m][\u001b[39m1\u001b[39m][nx][ny][nz]\n\u001b[1;32m    <a href='file:///home/joachim/exwings/exwings-codes/analyze_co5bold_functions.py?line=146'>147</a>\u001b[0m         c5dstar_opacities[nx,ny,nz] \u001b[39m=\u001b[39m c5ddata[\u001b[39m'\u001b[39m\u001b[39mOPA\u001b[39m\u001b[39m'\u001b[39m][\u001b[39m0\u001b[39m][\u001b[39m0\u001b[39m][\u001b[39m0\u001b[39m][nx][ny][nz]\n",
      "File \u001b[0;32m/usr/lib/python3/dist-packages/numpy/core/records.py:519\u001b[0m, in \u001b[0;36mrecarray.__getitem__\u001b[0;34m(self, indx)\u001b[0m\n\u001b[1;32m    <a href='file:///usr/lib/python3/dist-packages/numpy/core/records.py?line=517'>518</a>\u001b[0m \u001b[39mdef\u001b[39;00m \u001b[39m__getitem__\u001b[39m(\u001b[39mself\u001b[39m, indx):\n\u001b[0;32m--> <a href='file:///usr/lib/python3/dist-packages/numpy/core/records.py?line=518'>519</a>\u001b[0m     obj \u001b[39m=\u001b[39m \u001b[39msuper\u001b[39;49m(recarray, \u001b[39mself\u001b[39;49m)\u001b[39m.\u001b[39;49m\u001b[39m__getitem__\u001b[39;49m(indx)\n\u001b[1;32m    <a href='file:///usr/lib/python3/dist-packages/numpy/core/records.py?line=520'>521</a>\u001b[0m     \u001b[39m# copy behavior of getattr, except that here\u001b[39;00m\n\u001b[1;32m    <a href='file:///usr/lib/python3/dist-packages/numpy/core/records.py?line=521'>522</a>\u001b[0m     \u001b[39m# we might also be returning a single element\u001b[39;00m\n\u001b[1;32m    <a href='file:///usr/lib/python3/dist-packages/numpy/core/records.py?line=522'>523</a>\u001b[0m     \u001b[39mif\u001b[39;00m \u001b[39misinstance\u001b[39m(obj, ndarray):\n",
      "\u001b[0;31mKeyboardInterrupt\u001b[0m: "
     ]
    }
   ],
   "source": [
    "# Create onestar-data\n",
    "# ie the not-binned data which treats the star as one specie\n",
    "\n",
    "import analyze_co5bold_functions as a5d\n",
    "import os\n",
    "\n",
    "path = f'../r3dresults/st28gm06n052/'\n",
    "\n",
    "for phase in ['186','190','198']:\n",
    "    print(f'Doing phase: {phase}')\n",
    "    \n",
    "    a5d.create_star(\n",
    "        savpath=f'../co5bold_data/dst28gm06n052/st28gm06n052_{phase}.sav',\n",
    "        amrpath=path+'amr_grid.inp',\n",
    "        gridpath=path+'grid_distances.csv',\n",
    "        sizepath=path+'grid_cellsizes.csv'\n",
    "    )\n",
    "\n",
    "    print('Moving files')\n",
    "    os.system(f'mv ../dust_density_onestar.inp {path}9species_{phase}/dust_density_onestar.inp')\n",
    "    os.system(f'mv ../dust_temperature_onestar.dat {path}9species_{phase}/dust_temperature_onestar.dat')\n",
    "    os.system(f'mv ../star_opacities.dat {path}9species_{phase}/star_opacities.dat')\n",
    "\n",
    "print('All done')\n"
   ]
  },
  {
   "cell_type": "code",
   "execution_count": null,
   "metadata": {},
   "outputs": [],
   "source": [
    "# Create binned star data\n",
    "import analyze_co5bold_functions as a5d\n",
    "import os\n",
    "\n",
    "nbins = 9\n",
    "Teff = 2800\n",
    "\n",
    "path = f'../r3dresults/st28gm06n052/'\n",
    "\n",
    "for phase in ['186','190','198']:\n",
    "    print(f'Doing phase: {phase}')\n",
    "\n",
    "    a5d.create_staropacity(\n",
    "        pathopacity = f'{path}9species_{phase}/star_opacities.dat',\n",
    "        pathstardensity=f'{path}9species_{phase}/dust_density_onestar.inp',\n",
    "        pathwavelength=f'{path}wavelength_micron.inp',\n",
    "        pathtemperature=f'{path}9species_{phase}/dust_temperature_onestar.dat',\n",
    "        temperaturelimit=5*Teff,\n",
    "        nbins=nbins\n",
    "    )\n",
    "\n",
    "    print('Moving files')\n",
    "    os.system(f'mv ../dust_density_starbins.inp {path}9species_{phase}/dust_density.inp')\n",
    "    os.system(f'mv ../dustkappa_*.inp {path}9species_{phase}/')\n",
    "    os.system(f'mv ../dustopac_starbins.inp {path}9species_{phase}/dustopac.inp')\n",
    "    os.system(f'mv ../dust_temperature_starbins.dat {path}9species_{phase}/dust_temperature.dat')\n",
    "    os.system(f'mv ../star_opacities_bins.dat {path}9species_{phase}/')\n",
    "\n",
    "print('All done')\n"
   ]
  },
  {
   "cell_type": "markdown",
   "metadata": {},
   "source": [
    "## Analyze input data"
   ]
  },
  {
   "cell_type": "code",
   "execution_count": null,
   "metadata": {},
   "outputs": [],
   "source": [
    "# Plot densities as func of radius of all star-species\n",
    "import analyze_r3d_functions as a3d\n",
    "\n",
    "a3d.plot_alldensity_radius(\n",
    "    path='../r3dresults/st28gm06n052/9species_186/'\n",
    ")"
   ]
  },
  {
   "cell_type": "code",
   "execution_count": null,
   "metadata": {},
   "outputs": [],
   "source": [
    "# Plot temperatures as func of radius of all star-species\n",
    "import analyze_r3d_functions as a3d\n",
    "\n",
    "a3d.plot_alltemperature_radius(\n",
    "    path='../r3dresults/st28gm06n052/9species_186/'\n",
    ")"
   ]
  },
  {
   "cell_type": "code",
   "execution_count": null,
   "metadata": {},
   "outputs": [],
   "source": [
    "# Plot c5d's kappa in r3d-grid\n",
    "import analyze_co5bold_functions as a5d\n",
    "\n",
    "a5d.plot_opakapparadius(\n",
    "    path='../r3dresults/st28gm06n052/9species_186/'\n",
    ")\n"
   ]
  },
  {
   "cell_type": "code",
   "execution_count": null,
   "metadata": {},
   "outputs": [],
   "source": [
    "# Plot all star-kappa as func of wavelength\n",
    "import analyze_r3d_functions as a3d\n",
    "\n",
    "a3d.plot_allkappa(\n",
    "    path='../r3dresults/st28gm06n052/9species_186/'\n",
    ")"
   ]
  },
  {
   "cell_type": "markdown",
   "metadata": {},
   "source": [
    "## Analyze images and SED"
   ]
  },
  {
   "cell_type": "code",
   "execution_count": null,
   "metadata": {},
   "outputs": [],
   "source": [
    "import analyze_r3d_functions as a3d\n",
    "import matplotlib.pyplot as plt\n",
    "\n",
    "path = '../r3dresults/st28gm06n052/9species_186/'\n",
    "\n",
    "imagewaves = [1,10,1000]\n",
    "images = [f'image_{imagewave}um.out' for imagewave in imagewaves]\n",
    "\n",
    "testflux = a3d.plot_images(\n",
    "    path=path,\n",
    "    images=images,\n",
    "    distance=1\n",
    ")\n",
    "\n",
    "maxflux,maxwave = a3d.plot_sed(path=f'{path}spectrum.out')\n",
    "\n",
    "# Print luminosity in Lsols\n",
    "# Wien's displacement law: freqmax = kb/h*T * 2.821439[..]\n",
    "print(f\"{a3d.compute_luminosity(path=f'{path}spectrum.out')/3.828e26} Lsol\")\n",
    "print(f'Max flux: {maxflux} Jy, at {maxwave} um.')\n",
    "print(f'BB-temperature: {2.998e8/(5.879e10 * maxwave*1e-6)} K')\n",
    "\n",
    "plt.plot(imagewaves,testflux,'r*')\n"
   ]
  }
 ],
 "metadata": {
  "interpreter": {
   "hash": "916dbcbb3f70747c44a77c7bcd40155683ae19c65e1c03b4aa3499c5328201f1"
  },
  "kernelspec": {
   "display_name": "Python 3.8.10 64-bit",
   "language": "python",
   "name": "python3"
  },
  "language_info": {
   "codemirror_mode": {
    "name": "ipython",
    "version": 3
   },
   "file_extension": ".py",
   "mimetype": "text/x-python",
   "name": "python",
   "nbconvert_exporter": "python",
   "pygments_lexer": "ipython3",
   "version": "3.8.10"
  },
  "orig_nbformat": 4
 },
 "nbformat": 4,
 "nbformat_minor": 2
}
