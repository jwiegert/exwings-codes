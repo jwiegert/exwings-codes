{
 "cells": [
  {
   "cell_type": "markdown",
   "metadata": {},
   "source": [
    "# co5bold data - anteckningar\n",
    "\n",
    "- i teststjärnan ['Z'][0][0]\n",
    "\n",
    "    [7], 10 tid i sekunder\n",
    "\n",
    "    [13] - time step number\n",
    "\n",
    "    [16], [19], [22] - cellcentrumkoordinater i cm\n",
    "\n",
    "    [25],28,31     - cellboundary coords i cm\n",
    "\n",
    "     34 - densitet i g/cm3! 317**3 antal celler\n",
    "\n",
    "     37 - internal energy erg/g - för att göra om till temperaturer? Behövs ej för Bernd har redan gjort det.\n",
    "\n",
    "- teststar['EOS'][0][0]\n",
    "\n",
    "    [0] - är 317**3 (innehåller 2 arrayer-arrayer)\n",
    "\n",
    "    Nästa steg [0] har 317**2\n",
    "\n",
    "    Nästa har 317. Så det är nåt värde per cell\n",
    "\n",
    "    Alla är i stolreken 1e-4\n",
    "\n",
    "    [1] - är 317 x 317 x 317 stor matris med värden mellan 691 och 50441\n",
    "\n",
    "    Dessa är nog temperaturerna som Bernd har räknat ut åt mig!\n",
    "\n",
    "    Tstar = teststar['EOS'][0][0][1][x][y][z]\n",
    "\n",
    "- teststar['OPA']... - opaciteter, kappa skrivs i infon - vll jag ha - hitta unique här och se om du kan minska ner till ett tiotal kappa\n",
    "\n",
    "    ['OPA'][0][0][0] är en 317**3 array.\n",
    "    \n",
    "    Så den är rumsberoende, men itne våglängdberoende?\n",
    "\n",
    "    ['OPA'][0][0][0][x][y][z]\n",
    "\n",
    "    Om jag avrundar dessa till närmsta 10tal så har jag bara 6st unika värden kvar - dvs 6st stardust-species\n",
    "\n",
    "- ['PAR'] - har info om själva beräkningstid etc, inställningar\n",
    "\n",
    "    ['PAR'][0][0][2] Är stjärnans detaljer:\n",
    "\n",
    "```py\n",
    "    [b'Parameter file for RHD code:'\n",
    "    b'3D grey dust-free AGB star model: 1 M_Sun, 355 R_Sun, L=7000 L_Sun'\n",
    "    b'Start model st28gm06n043_300.end with 317^3 points'\n",
    "    b'New code version 2020-07-04: MPI+OpenMP'\n",
    "    b'Increase envelope mass gradually to 0.2 M_sun']\n",
    "```\n",
    "Notera: 355Rsun ~ 1.651 AU\n",
    "\n",
    "Och Grid'et i detta testobjektet är 2 * 3.65AU stort.\n",
    "\n",
    "- Diverse data\n",
    "\n",
    "```py\n",
    "# Size of grid\n",
    "print(np.shape(teststar['EOS'][0][0][0]))\n",
    "\n",
    "# Number of cells along each axis\n",
    "print(teststar['Z'][0][0][4])\n",
    "\n",
    "# Total time(?)\n",
    "print(f\"{teststar['Z'][0][0][7]} {teststar['Z'][0][0][8]}\")\n",
    "```\n"
   ]
  },
  {
   "cell_type": "code",
   "execution_count": 1,
   "metadata": {},
   "outputs": [
    {
     "name": "stdout",
     "output_type": "stream",
     "text": [
      "('TYPE', 'HEAD', 'DATASET_ID', 'DATASET_ID__UNIT', 'DATASET_ID__NAME', 'MODELTIME', 'MODELTIME__UNIT', 'MODELTIME__NAME', 'MODELTIME_DB', 'MODELTIME_DB__UNIT', 'MODELTIME_DB__NAME', 'MODELITIME', 'MODELITIME__UNIT', 'MODELITIME__NAME', 'DTIME', 'DTIME__UNIT', 'DTIME__NAME', 'TIME_OUT_FULL_LAST', 'TIME_OUT_FULL_LAST__UNIT', 'TIME_OUT_FULL_LAST__NAME', 'TIME_OUT_MEAN_LAST', 'TIME_OUT_MEAN_LAST__UNIT', 'TIME_OUT_MEAN_LAST__NAME', 'Z', 'EOS', 'OPA', 'PAR')\n",
      "\n",
      "\n",
      "\n"
     ]
    }
   ],
   "source": [
    "# Notebook for exploring the data insize the sav-file\n",
    "\n",
    "import numpy as np\n",
    "import matplotlib.pyplot as plt\n",
    "from scipy.io.idl import readsav\n",
    "\n",
    "AUcm = 1.49598e13 # cm\n",
    "\n",
    "teststar = readsav('../co5bold_data/dst28gm06n056/st28gm06n056_140.sav')\n",
    "# st28gm06n052_186.sav\n",
    "teststar = teststar['ful']\n",
    "\n",
    "# Dict-columns\n",
    "print(teststar.dtype.names)\n",
    "print('\\n\\n')\n",
    "\n",
    "# Size of grid\n",
    "#print(np.shape(teststar['EOS'][0][0][0]))\n",
    "\n",
    "# Number of cells along each axis\n",
    "#print(teststar['Z'][0][0][4])\n",
    "\n",
    "# Total time(?)\n",
    "#print(f\"{teststar['Z'][0][0][7]} {teststar['Z'][0][0][8]}\")\n",
    "# Also\n",
    "#print(teststar['MODELTIME'],' ',teststar['MODELTIME__UNIT'])\n",
    "\n",
    "\n",
    "\n",
    "#nn=0\n",
    "\n",
    "#print(teststar['PAR'])\n",
    "#print(np.shape(teststar['OPA'][0][0][0]))\n",
    "\n",
    "#print(teststar['EOS'][0][0][nn+2])\n",
    "\n",
    "#import matplotlib.pyplot as plt\n",
    "#plt.plot(teststar['EOS'][0][0][0][0][0],'b.')\n",
    "#plt.plot(teststar['OPA'][0][0][0][0][0],'r.',markersize=1)"
   ]
  },
  {
   "cell_type": "code",
   "execution_count": 3,
   "metadata": {},
   "outputs": [],
   "source": [
    "# Ongoing stuff\n",
    "# Load opacities\n",
    "\n",
    "teststar = readsav('../co5bold_data/dst28gm06n056/st28gm06n056_140.sav')\n",
    "teststar = teststar['ful']\n",
    "\n",
    "# Dict-columns\n",
    "#print(teststar.dtype.names)\n",
    "\n",
    "#nn=0\n",
    "\n",
    "#print(teststar['OPA'][0][0][0][0][0][0])\n",
    "#print(np.shape(teststar['OPA'][0][0][nn]))\n",
    "#print(np.max(teststar['EOS'][0][0][1]))\n",
    "\n",
    "# Size of the grid\n",
    "nc5dedge = np.size(teststar['Z'][0][0][16])\n",
    "\n",
    "\n",
    "# move opacities to array\n",
    "c5dstar_opacities = np.zeros((nc5dedge,nc5dedge,nc5dedge))\n",
    "\n",
    "for nx in range(nc5dedge):\n",
    "    for ny in range(nc5dedge):\n",
    "        for nz in range(nc5dedge):\n",
    "            c5dstar_opacities[nx,ny,nz] = teststar['OPA'][0][0][0][nx][ny][nz]\n"
   ]
  },
  {
   "cell_type": "code",
   "execution_count": 4,
   "metadata": {},
   "outputs": [
    {
     "data": {
      "text/plain": [
       "[<matplotlib.lines.Line2D at 0x7f5e69486d00>]"
      ]
     },
     "execution_count": 4,
     "metadata": {},
     "output_type": "execute_result"
    },
    {
     "data": {
      "image/png": "[encoded data removed]",
      "text/plain": [
       "<Figure size 432x288 with 1 Axes>"
      ]
     },
     "metadata": {
      "needs_background": "light"
     },
     "output_type": "display_data"
    },
    {
     "data": {
      "image/png": "[encoded data removed]",
      "text/plain": [
       "<Figure size 432x288 with 1 Axes>"
      ]
     },
     "metadata": {
      "needs_background": "light"
     },
     "output_type": "display_data"
    }
   ],
   "source": [
    "# study opacities\n",
    "\n",
    "opac1d = c5dstar_opacities.ravel()\n",
    "\n",
    "import matplotlib.pyplot as plt\n",
    "\n",
    "# Approximate to factor tens\n",
    "opac1d = 10**np.round(np.log10(opac1d))\n",
    "\n",
    "plt.figure(1)\n",
    "plt.hist(np.log10(opac1d), bins=50);\n",
    "\n",
    "plt.figure(2)\n",
    "plt.plot(np.sort(opac1d),'.',markersize=1)\n",
    "\n",
    "# problemet kvarstår att jag har bara \"ett värde\" här per cell\n",
    "# det ska ju vara ett våglängdsberoende, så vad är detta kappa?\n",
    "\n",
    "# annars, till senare\n",
    "# översätt 3d-arrayen till r3d-data-lista i r3d-gridet\n",
    "# gör denna avrudningen fast i r3d-listan istället\n",
    "# tack vare listorna med griddistances så vet jag vilken cell som är vilken ju\n",
    "# då kan jag använda detta för att dela upp listan i dust_densities_star.inp's\n",
    "# till flera olika species\n",
    "# > i en specie så är det 0 g/cm3 i de celler där en annan specie huserar.\n",
    "\n"
   ]
  },
  {
   "cell_type": "code",
   "execution_count": 5,
   "metadata": {},
   "outputs": [
    {
     "name": "stdout",
     "output_type": "stream",
     "text": [
      "Creating amr_grid with octree refinement.\n",
      "Final length of total side of whole grid: 7.262420974257731 AU\n",
      "Number of base cells along one side of the grid: 18\n",
      "Distances to refinement limits from centrum: [3.5, 2.9, 2.3, 1.7] AU\n",
      "Number refinements: 4\n",
      "Size of base cell: 0.40346783190320734 AU\n",
      "Child cell size 1: 0.20173391595160367 AU\n",
      "Child cell size 2: 0.10086695797580184 AU\n",
      "Child cell size 3: 0.05043347898790092 AU\n",
      "Child cell size 4: 0.02521673949395046 AU\n",
      "Writing amr_grid.inp\n",
      "Writing grid_distances.csv and grid_cellsizes.csv\n",
      "(Not necessary for Radmc3d, but useful for pre/portprocessing of your model. They have the same order as dust_densities.inp)\n",
      "Writing grid_info.txt\n",
      "Create grid: done.\n",
      "\n"
     ]
    }
   ],
   "source": [
    "# Create grids to translate data into and explore the 3D distributions\n",
    "\n",
    "# Create r3d-grid to use for my tests\n",
    "# in case I need a grid with cellsizes in relation to c5d cellsizes\n",
    "\n",
    "import create_r3d_functions as c3d\n",
    "import analyze_r3d_functions as a3d\n",
    "import analyze_co5bold_functions as a5d\n",
    "import numpy as np\n",
    "from scipy.io.idl import readsav\n",
    "\n",
    "AUcm = 1.49598e13 # cm\n",
    "\n",
    "# Load all necessary details from c5d-data\n",
    "c5dgrid = a5d.load_grid_coordinates()\n",
    "nc5dedge = np.size(c5dgrid[:,0])\n",
    "nc5dcube = nc5dedge**3\n",
    "\n",
    "c5dcellsize,c5dcourners = a5d.load_grid_cellsizes()\n",
    "\n",
    "\n",
    "# Set settings for new grid, in this specific case:\n",
    "# (normally, plot and check the density distribution against R)\n",
    "# (or later, just use the same size of the grid, set some good refinement\n",
    "#  limits)\n",
    "# 6AU side (the star seems to end at R=2AU so 3AU is good enough for this test)\n",
    "# smallest grid cells are c5dcellsize > basecells are c5dcellsize*2**4\n",
    "#r3dedge = 2*5*AUcm\n",
    "#nxyz = 10\n",
    "#refinementlist = [0.8*r3dedge,0.6*r3dedge,0.4*r3dedge,0.2*r3dedge]\n",
    "#refinementlist_au = [refs/AUcm for refs in refinementlist]\n",
    "\n",
    "# Use these for adapting cell sizes to c5d cell sizes\n",
    "r3dedge = 2 * 3.5 * AUcm\n",
    "basecell = c5dcellsize*1.1 * 2**4\n",
    "nxyz = r3dedge/basecell\n",
    "refinementlist_au = [3.5,2.9,2.3,1.7]\n",
    "refinementlist = [refs*AUcm for refs in refinementlist_au]\n",
    "\n",
    "# Create new smaller grid\n",
    "# Mind that create-grid function automatically adapts nxyz and gridedge so that\n",
    "# nxyz is an even integer and cell sizes are kept as set in the initial settings\n",
    "c3d.create_grid(r3dedge/AUcm, nxyz, refinementlist_au, savegrid=True)\n"
   ]
  },
  {
   "cell_type": "code",
   "execution_count": 6,
   "metadata": {},
   "outputs": [
    {
     "name": "stdout",
     "output_type": "stream",
     "text": [
      "Loading R3D grid\n",
      "Loading C5D grid properties\n",
      "Loading C5D star properties (density, temperature, opacity)\n",
      "Translating C5D data to R3D data\n",
      "Finished 25 per cent of the grid.\n",
      "Finished 50 per cent of the grid.\n",
      "Finished 75 per cent of the grid.\n",
      "C5D Dust-star: done.\n",
      "\n"
     ]
    }
   ],
   "source": [
    "import analyze_co5bold_functions as a5d\n",
    "a5d.create_star()"
   ]
  },
  {
   "cell_type": "code",
   "execution_count": 7,
   "metadata": {},
   "outputs": [
    {
     "name": "stderr",
     "output_type": "stream",
     "text": [
      "/home/joachim/exwings/exwings-codes/analyze_r3d_functions.py:498: UserWarning: Matplotlib is currently using module://matplotlib_inline.backend_inline, which is a non-GUI backend, so cannot show the figure.\n",
      "  fig.show()\n"
     ]
    },
    {
     "data": {
      "image/png": "[encoded data removed]",
      "text/plain": [
       "<Figure size 432x288 with 1 Axes>"
      ]
     },
     "metadata": {
      "needs_background": "light"
     },
     "output_type": "display_data"
    }
   ],
   "source": [
    "import analyze_r3d_functions as a3d\n",
    "import matplotlib.pyplot as plt\n",
    "\n",
    "a3d.plot_temperature_radius(temperature_path='../dust_temperature_star.dat')\n",
    "\n"
   ]
  },
  {
   "cell_type": "code",
   "execution_count": 8,
   "metadata": {},
   "outputs": [
    {
     "name": "stderr",
     "output_type": "stream",
     "text": [
      "/home/joachim/exwings/exwings-codes/analyze_r3d_functions.py:379: UserWarning: Matplotlib is currently using module://matplotlib_inline.backend_inline, which is a non-GUI backend, so cannot show the figure.\n",
      "  fig.show()\n"
     ]
    },
    {
     "data": {
      "image/png": "[encoded data removed]",
      "text/plain": [
       "<Figure size 432x288 with 1 Axes>"
      ]
     },
     "metadata": {
      "needs_background": "light"
     },
     "output_type": "display_data"
    }
   ],
   "source": [
    "import analyze_r3d_functions as a3d\n",
    "\n",
    "a3d.plot_onedensity_radius(density_path='../dust_density_star.inp')\n"
   ]
  },
  {
   "cell_type": "markdown",
   "metadata": {},
   "source": [
    "# Test star creation\n",
    "\n",
    "Creates a test star for rad-trans-sims with black/grey opacity."
   ]
  },
  {
   "cell_type": "code",
   "execution_count": 1,
   "metadata": {},
   "outputs": [
    {
     "name": "stdout",
     "output_type": "stream",
     "text": [
      "Creating amr_grid with octree refinement.\n",
      "Final length of total side of whole grid: 7.679999999999999 AU\n",
      "Number of base cells along one side of the grid: 16\n",
      "Distances to outer refinement limits from centrum: [3.65, 2.9, 2.4, 1.9] AU\n",
      "Distances to inner refinement limits from centrum: [0.38, 0.76, 1.1400000000000001, 1.52] AU\n",
      "Number refinements: 4\n",
      "Size of base cell: 0.48 AU\n",
      "Child cell size 1: 0.24 AU\n",
      "Child cell size 2: 0.12 AU\n",
      "Child cell size 3: 0.06 AU\n",
      "Child cell size 4: 0.03 AU\n",
      "Writing amr_grid.inp\n",
      "Writing grid_distances.csv and grid_cellsizes.csv\n",
      "(Not necessary for Radmc3d, but useful for pre/portprocessing of your model. They have the same order as dust_densities.inp)\n",
      "Writing grid_info.txt\n",
      "Create grid: done.\n",
      "\n"
     ]
    }
   ],
   "source": [
    "# Create grid\n",
    "import create_r3d_functions as c3d\n",
    "\n",
    "# Smallest c5d cells are 2*3.65/317 AU = 0.023 AU\n",
    "# Radius of star: 1.651AU (355 Rsun)\n",
    "\n",
    "# Settings for the grid\n",
    "AUcm = 1.49598e13 # cm\n",
    "r3dedge = 2 * 3.65 * AUcm # Size of whole grid\n",
    "basecell = 0.03*AUcm * 2**4 # Size of base cells (smallest being 0.03 AU)\n",
    "nxyz = r3dedge/basecell\n",
    "refinementlist_au = [3.65,2.9,2.4,1.9]\n",
    "refinementlist = [refs*AUcm for refs in refinementlist_au]\n",
    "\n",
    "c3d.create_grid(r3dedge/AUcm, nxyz, refinementlist_au, savegrid=True)"
   ]
  },
  {
   "cell_type": "code",
   "execution_count": 2,
   "metadata": {},
   "outputs": [
    {
     "name": "stdout",
     "output_type": "stream",
     "text": [
      "Loading R3D grid\n",
      "Loading C5D grid properties\n",
      "Loading C5D star properties (density, temperature, opacity)\n",
      "Translating C5D data to R3D data\n",
      "Finished 25 per cent of the grid.\n",
      "Finished 50 per cent of the grid.\n",
      "Finished 75 per cent of the grid.\n",
      "C5D Dust-star: done.\n",
      "\n"
     ]
    }
   ],
   "source": [
    "import analyze_co5bold_functions as a5d\n",
    "\n",
    "a5d.create_star(\n",
    "    savpath='../co5bold_data/dst28gm06n056/st28gm06n056_142.sav',\n",
    "    amrpath='../r3dresults/duststar_tests_3/amr_grid.inp',\n",
    "    gridpath='../r3dresults/duststar_tests_3/grid_distances.csv',\n",
    "    sizepath='../r3dresults/duststar_tests_3/grid_cellsizes.csv'\n",
    ")"
   ]
  },
  {
   "cell_type": "code",
   "execution_count": null,
   "metadata": {},
   "outputs": [],
   "source": [
    "import analyze_r3d_functions as a3d\n",
    "\n",
    "a3d.plot_sed(path='../r3dresults/duststar_tests_3/spectrum.out')"
   ]
  }
 ],
 "metadata": {
  "interpreter": {
   "hash": "916dbcbb3f70747c44a77c7bcd40155683ae19c65e1c03b4aa3499c5328201f1"
  },
  "kernelspec": {
   "display_name": "Python 3.8.10 64-bit",
   "language": "python",
   "name": "python3"
  },
  "language_info": {
   "codemirror_mode": {
    "name": "ipython",
    "version": 3
   },
   "file_extension": ".py",
   "mimetype": "text/x-python",
   "name": "python",
   "nbconvert_exporter": "python",
   "pygments_lexer": "ipython3",
   "version": "3.8.10"
  },
  "orig_nbformat": 4
 },
 "nbformat": 4,
 "nbformat_minor": 2
}
