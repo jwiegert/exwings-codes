{
 "cells": [
  {
   "cell_type": "code",
   "execution_count": null,
   "metadata": {},
   "outputs": [],
   "source": [
    "import create_r3d_functions as c3d\n",
    "\n",
    "basecell = 2\n",
    "c3d.create_grid(basecell,8,[\n",
    "        basecell,basecell*3/4,basecell*2/4,basecell*1/4\n",
    "    ]\n",
    ")\n",
    "\n"
   ]
  },
  {
   "cell_type": "code",
   "execution_count": 2,
   "metadata": {},
   "outputs": [],
   "source": [
    "from bhmie.makedustopac import *\n",
    "\n",
    "compute_opac_mie()\n",
    "\n"
   ]
  },
  {
   "cell_type": "code",
   "execution_count": 1,
   "metadata": {},
   "outputs": [
    {
     "name": "stdout",
     "output_type": "stream",
     "text": [
      "[1.00000000e-01 1.10520985e-01 1.22148882e-01 1.35000147e-01\n",
      " 1.49203493e-01 1.64901170e-01 1.82250398e-01 2.01424935e-01\n",
      " 2.22616822e-01 2.46038305e-01 2.71923959e-01 3.00533038e-01\n",
      " 3.32152074e-01 3.67097745e-01 4.05720044e-01 4.48405790e-01\n",
      " 4.95582496e-01 5.47722657e-01 6.05348477e-01 6.69037100e-01\n",
      " 7.39426394e-01 8.17221335e-01 9.03201070e-01 9.98226721e-01\n",
      " 1.10325001e+00 1.21932277e+00 1.34760754e+00 1.48938913e+00\n",
      " 1.64608754e+00 1.81927217e+00 2.01067752e+00 2.22222061e+00\n",
      " 2.45602011e+00 2.71441762e+00 3.00000109e+00 3.31563076e+00\n",
      " 3.66446778e+00 4.05000589e+00 4.47610641e+00 4.94703690e+00\n",
      " 5.46751392e+00 6.04275025e+00 6.67850710e+00 7.38115184e+00\n",
      " 8.15772173e+00 9.01599442e+00 9.96456586e+00 1.10129364e+01\n",
      " 1.21716057e+01 1.34521786e+01 1.48674803e+01 1.64316857e+01\n",
      " 1.81604609e+01 2.00711203e+01 2.21827999e+01 2.45166490e+01\n",
      " 2.70960420e+01 2.99468125e+01 3.30975122e+01 3.65796965e+01\n",
      " 4.04282410e+01 4.46816902e+01 4.93826442e+01 5.45781849e+01\n",
      " 6.03203476e+01 6.66666424e+01 7.36806300e+01 8.14325581e+01\n",
      " 9.00000655e+01 9.94689590e+01 1.09934073e+02 1.21500221e+02\n",
      " 1.34283241e+02 1.48411161e+02 1.64025477e+02 1.81282573e+02\n",
      " 2.00355286e+02 2.21434636e+02 2.44731741e+02 2.70479931e+02\n",
      " 2.98937084e+02 3.30388211e+02 3.65148305e+02 4.03565504e+02\n",
      " 4.46024571e+02 4.92950750e+02 5.44814025e+02 6.02133828e+02\n",
      " 6.65484238e+02 7.35499736e+02 8.12881554e+02 8.98404702e+02\n",
      " 9.92925727e+02 1.09739130e+03 1.21284767e+03 1.34045119e+03\n",
      " 1.48147987e+03 1.63734614e+03 1.80961109e+03 2.00000000e+03]\n"
     ]
    }
   ],
   "source": [
    "import analyze_r3d_functions as a3d\n",
    "import numpy as np\n",
    "\n",
    "wavelengths,nwave = a3d.load_wavelengthgrid()\n",
    "\n",
    "print(\n",
    "    np.array([\n",
    "        wavelength*1e-4 for wavelength in wavelengths\n",
    "    ])\n",
    ")"
   ]
  },
  {
   "cell_type": "code",
   "execution_count": null,
   "metadata": {},
   "outputs": [],
   "source": []
  }
 ],
 "metadata": {
  "interpreter": {
   "hash": "df0893f56f349688326838aaeea0de204df53a132722cbd565e54b24a8fec5f6"
  },
  "kernelspec": {
   "display_name": "Python 3.8.10 64-bit",
   "language": "python",
   "name": "python3"
  },
  "language_info": {
   "codemirror_mode": {
    "name": "ipython",
    "version": 3
   },
   "file_extension": ".py",
   "mimetype": "text/x-python",
   "name": "python",
   "nbconvert_exporter": "python",
   "pygments_lexer": "ipython3",
   "version": "3.8.10"
  },
  "orig_nbformat": 4
 },
 "nbformat": 4,
 "nbformat_minor": 2
}
