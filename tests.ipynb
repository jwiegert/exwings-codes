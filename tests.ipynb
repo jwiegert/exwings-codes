{
 "cells": [
  {
   "cell_type": "code",
   "execution_count": 1,
   "metadata": {},
   "outputs": [
    {
     "name": "stdout",
     "output_type": "stream",
     "text": [
      "Creating amr_grid with octree refinement.\n",
      "Size of base cell: 100 AU\n",
      "Number of base cells along one side of the grid: 2\n",
      "Distances to refinement limits: [100, 50, 25, 12.5] AU\n",
      "Number refinements: 4\n",
      "Length of total side of whole grid: 200.00 AU\n",
      "\n",
      "Child cell size 0: 50.0 AU\n",
      "Child cell size 1: 25.0 AU\n",
      "Child cell size 2: 12.5 AU\n",
      "Child cell size 3: 6.25 AU\n",
      "\n",
      "Writing amr_grid.inp\n",
      "Finished amr_grid.inp\n",
      "\n",
      "Writing grid_distances.dat (not necessary for Radmc3d, but useful for pre/portprocessing of your model files. It has the same order as dust_densities.inp)\n",
      "\n",
      "Done\n"
     ]
    }
   ],
   "source": [
    "import create_r3d_functions as c3d\n",
    "\n",
    "#c3d.create_grid(100,9,[100.0/2, 100.0/4, 100.0/8, 100.0/16])\n",
    "\n",
    "c3d.create_grid(100,2,[100,50,25,12.5],'y')\n",
    "\n"
   ]
  },
  {
   "cell_type": "code",
   "execution_count": 11,
   "metadata": {},
   "outputs": [
    {
     "name": "stdout",
     "output_type": "stream",
     "text": [
      "[[0. 0. 0. 0.]\n",
      " [0. 0. 0. 0.]\n",
      " [0. 0. 0. 0.]\n",
      " [0. 0. 0. 0.]\n",
      " [0. 0. 0. 0.]\n",
      " [0. 0. 0. 0.]\n",
      " [0. 0. 0. 0.]\n",
      " [0. 0. 0. 0.]\n",
      " [0. 0. 0. 0.]\n",
      " [0. 0. 0. 0.]]\n"
     ]
    }
   ],
   "source": [
    "import numpy as np\n",
    "\n",
    "test = np.zeros((10,4))\n",
    "\n",
    "print(test)\n",
    "\n"
   ]
  },
  {
   "cell_type": "code",
   "execution_count": null,
   "metadata": {},
   "outputs": [],
   "source": [
    "refdistance = np.sqrt(\n",
    "(griddist[nx] + gridcorrx[0][child1] + gridcorrx[1][child2] + gridcorrx[2][child3])**2 + \n",
    "(griddist[ny] + gridcorry[0][child1] + gridcorry[1][child2] + gridcorry[2][child3])**2 + \n",
    "(griddist[nz] + gridcorrz[0][child1] + gridcorrz[1][child2] + gridcorrz[2][child3])**2\n",
    ")\n",
    "\n",
    "refinearray1[nn + counter[0]*8] = 1, 0, 2 (men inte mer)\n",
    "\n",
    "refinearray2[nn + sum(counter)*8 + child1+1] = 2,0,3\n",
    "# counter 0 och 1\n",
    "refinearray3[nn + sum(counter)*8 + child1+child2+2] = 3,0,4\n",
    "# counter 0 1 2\n",
    "\n",
    "\n",
    "\n"
   ]
  },
  {
   "cell_type": "code",
   "execution_count": 9,
   "metadata": {},
   "outputs": [
    {
     "name": "stdout",
     "output_type": "stream",
     "text": [
      "1230000000000.0\n"
     ]
    }
   ],
   "source": [
    "print(f'{1230000000000.0}')"
   ]
  },
  {
   "cell_type": "code",
   "execution_count": null,
   "metadata": {},
   "outputs": [],
   "source": []
  }
 ],
 "metadata": {
  "interpreter": {
   "hash": "f9f85f796d01129d0dd105a088854619f454435301f6ffec2fea96ecbd9be4ac"
  },
  "kernelspec": {
   "display_name": "Python 3.9.5 64-bit",
   "language": "python",
   "name": "python3"
  },
  "language_info": {
   "codemirror_mode": {
    "name": "ipython",
    "version": 3
   },
   "file_extension": ".py",
   "mimetype": "text/x-python",
   "name": "python",
   "nbconvert_exporter": "python",
   "pygments_lexer": "ipython3",
   "version": "3.8.10"
  },
  "orig_nbformat": 4
 },
 "nbformat": 4,
 "nbformat_minor": 2
}
