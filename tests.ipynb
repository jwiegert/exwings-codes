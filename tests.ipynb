{
 "cells": [
  {
   "cell_type": "code",
   "execution_count": 1,
   "metadata": {},
   "outputs": [
    {
     "name": "stdout",
     "output_type": "stream",
     "text": [
      "Creating amr_grid with octree refinement.\n",
      "Size of base cell: 10 AU\n",
      "Number of base cells along one side of the grid: 2\n",
      "Distances to refinement limits: [100, 50, 25, 12.5] AU\n",
      "Number refinements: 4\n",
      "Length of total side of whole grid: 20.00 AU\n",
      "\n",
      "Child cell size 1: 5.0 AU\n",
      "Child cell size 2: 2.5 AU\n",
      "Child cell size 3: 1.25 AU\n",
      "Child cell size 4: 0.625 AU\n",
      "\n",
      "Writing amr_grid.inp\n",
      "Finished amr_grid.inp\n",
      "\n",
      "Writing grid_distances.csv (not necessary for Radmc3d, but useful for pre/portprocessing of your model files. It has the same order as dust_densities.inp)\n",
      "Finished grid_distances.csv\n",
      "\n",
      "Writing grid_info.txt\n",
      "Finished grid_info.txt\n",
      "\n",
      "Done\n"
     ]
    },
    {
     "name": "stderr",
     "output_type": "stream",
     "text": [
      "/home/joachim/exwings/exwings-codes/plot_r3d_functions.py:109: UserWarning: Matplotlib is currently using module://matplotlib_inline.backend_inline, which is a non-GUI backend, so cannot show the figure.\n",
      "  fig.show()\n"
     ]
    },
    {
     "name": "stdout",
     "output_type": "stream",
     "text": [
      "Writing dust_density_01.inp\n",
      "Finished dust_density_01.inp\n"
     ]
    },
    {
     "data": {
      "image/png": "[encoded data removed]",
      "text/plain": [
       "<Figure size 432x288 with 4 Axes>"
      ]
     },
     "metadata": {
      "needs_background": "light"
     },
     "output_type": "display_data"
    }
   ],
   "source": [
    "import create_r3d_functions as c3d\n",
    "import plot_r3d_functions as p3d\n",
    "#c3d.create_grid(100,9,[100.0/2, 100.0/4, 100.0/8, 100.0/16])\n",
    "\n",
    "#c3d.create_grid(10,2,[100,50,25,12.5])\n",
    "p3d.plot_grid(nbins=100)\n",
    "#c3d.create_duststar()\n",
    "\n",
    "\n",
    "\n"
   ]
  },
  {
   "cell_type": "code",
   "execution_count": 6,
   "metadata": {},
   "outputs": [
    {
     "data": {
      "text/plain": [
       "False"
      ]
     },
     "execution_count": 6,
     "metadata": {},
     "output_type": "execute_result"
    }
   ],
   "source": [
    "string = '-1.111a'\n",
    "\n",
    "string[-1].isdigit()"
   ]
  },
  {
   "cell_type": "code",
   "execution_count": 2,
   "metadata": {},
   "outputs": [
    {
     "name": "stdout",
     "output_type": "stream",
     "text": [
      "[[0. 0. 0. 0.]\n",
      " [0. 0. 0. 0.]\n",
      " [0. 0. 0. 0.]\n",
      " [0. 0. 0. 0.]\n",
      " [0. 0. 0. 0.]\n",
      " [0. 0. 0. 0.]\n",
      " [0. 0. 0. 0.]\n",
      " [0. 0. 0. 0.]\n",
      " [0. 0. 0. 0.]\n",
      " [0. 0. 0. 0.]]\n"
     ]
    }
   ],
   "source": [
    "import numpy as np\n",
    "print(np.zeros((10,4)))"
   ]
  },
  {
   "cell_type": "code",
   "execution_count": null,
   "metadata": {},
   "outputs": [],
   "source": []
  }
 ],
 "metadata": {
  "interpreter": {
   "hash": "f9f85f796d01129d0dd105a088854619f454435301f6ffec2fea96ecbd9be4ac"
  },
  "kernelspec": {
   "display_name": "Python 3.9.5 64-bit",
   "language": "python",
   "name": "python3"
  },
  "language_info": {
   "codemirror_mode": {
    "name": "ipython",
    "version": 3
   },
   "file_extension": ".py",
   "mimetype": "text/x-python",
   "name": "python",
   "nbconvert_exporter": "python",
   "pygments_lexer": "ipython3",
   "version": "3.8.10"
  },
  "orig_nbformat": 4
 },
 "nbformat": 4,
 "nbformat_minor": 2
}
