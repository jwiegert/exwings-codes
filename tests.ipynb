{
 "cells": [
  {
   "cell_type": "code",
   "execution_count": 3,
   "metadata": {},
   "outputs": [
    {
     "name": "stdout",
     "output_type": "stream",
     "text": [
      "Radius of star: 0.46 AU (100.0 Rsun)\n",
      "Average star density: 0.0 g/cm3\n",
      "Cells inside star: 184\n",
      "Writing dust_density_star.inp\n",
      "Finished dust_density_star.inp\n",
      "Writing dust_temperature_star.dat\n",
      "Creating wavelength grid\n",
      "Logarithmic wavelength grid was chosen\n",
      "Writing wavelength_micron.inp\n",
      "Wavelength grid: done.\n",
      "\n",
      "Duststar: done.\n",
      "\n"
     ]
    }
   ],
   "source": [
    "import create_r3d_functions as c3d\n",
    "\n",
    "#basecell = 2\n",
    "#c3d.create_grid(basecell,8,[\n",
    "#        basecell,basecell*3/4,basecell*2/4,basecell*1/4\n",
    "#    ]\n",
    "#)\n",
    "c3d.create_duststar(Mstar=0,Teff=1)\n",
    "\n",
    "\n"
   ]
  },
  {
   "cell_type": "code",
   "execution_count": 1,
   "metadata": {},
   "outputs": [
    {
     "name": "stderr",
     "output_type": "stream",
     "text": [
      "/home/joachim/exwings/exwings-codes/plot_r3d_functions.py:157: UserWarning: Matplotlib is currently using module://matplotlib_inline.backend_inline, which is a non-GUI backend, so cannot show the figure.\n",
      "  fig.show()\n"
     ]
    },
    {
     "data": {
      "image/png": "[encoded data removed]",
      "text/plain": [
       "<Figure size 432x288 with 1 Axes>"
      ]
     },
     "metadata": {
      "needs_background": "light"
     },
     "output_type": "display_data"
    }
   ],
   "source": [
    "import plot_r3d_functions as p3d\n",
    "p3d.plot_sed('../r3dsims/spectrum_duststar.out')"
   ]
  },
  {
   "cell_type": "code",
   "execution_count": 1,
   "metadata": {},
   "outputs": [
    {
     "ename": "NameError",
     "evalue": "name 'p3d' is not defined",
     "output_type": "error",
     "traceback": [
      "\u001b[0;31m---------------------------------------------------------------------------\u001b[0m",
      "\u001b[0;31mNameError\u001b[0m                                 Traceback (most recent call last)",
      "\u001b[0;32m/tmp/ipykernel_26698/2996213154.py\u001b[0m in \u001b[0;36m<module>\u001b[0;34m\u001b[0m\n\u001b[0;32m----> 1\u001b[0;31m \u001b[0mp3d\u001b[0m\u001b[0;34m.\u001b[0m\u001b[0mplot_sed\u001b[0m\u001b[0;34m(\u001b[0m\u001b[0;34m'../r3dsims/spectrum_blackbodystar.out'\u001b[0m\u001b[0;34m)\u001b[0m\u001b[0;34m\u001b[0m\u001b[0;34m\u001b[0m\u001b[0m\n\u001b[0m",
      "\u001b[0;31mNameError\u001b[0m: name 'p3d' is not defined"
     ]
    }
   ],
   "source": [
    "import plot_r3d_functions as p3d\n",
    "p3d.plot_sed('../r3dsims/spectrum_blackbodystar.out')"
   ]
  },
  {
   "cell_type": "code",
   "execution_count": null,
   "metadata": {},
   "outputs": [],
   "source": []
  }
 ],
 "metadata": {
  "interpreter": {
   "hash": "f9f85f796d01129d0dd105a088854619f454435301f6ffec2fea96ecbd9be4ac"
  },
  "kernelspec": {
   "display_name": "Python 3.9.5 64-bit",
   "language": "python",
   "name": "python3"
  },
  "language_info": {
   "codemirror_mode": {
    "name": "ipython",
    "version": 3
   },
   "file_extension": ".py",
   "mimetype": "text/x-python",
   "name": "python",
   "nbconvert_exporter": "python",
   "pygments_lexer": "ipython3",
   "version": "3.8.10"
  },
  "orig_nbformat": 4
 },
 "nbformat": 4,
 "nbformat_minor": 2
}
