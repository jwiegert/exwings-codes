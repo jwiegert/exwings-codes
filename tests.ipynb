{
 "cells": [
  {
   "cell_type": "code",
   "execution_count": 2,
   "metadata": {},
   "outputs": [
    {
     "name": "stdout",
     "output_type": "stream",
     "text": [
      "Creating wavelength grid\n",
      "Linear wavelength grid was chosen\n",
      "Writing wavelength_micron.inp\n",
      "Done\n",
      "\n"
     ]
    }
   ],
   "source": [
    "import create_r3d_functions as c3d\n",
    "import plot_r3d_functions as p3d\n",
    "\n",
    "basecell = 2.5\n",
    "\n",
    "#c3d.create_grid(basecell,8,[basecell,basecell/2,basecell/4,basecell/8])\n",
    "#p3d.plot_grid(nbins=10)\n",
    "#c3d.create_duststar()\n",
    "\n",
    "c3d.create_wavelength(logscale='y')\n",
    "\n"
   ]
  },
  {
   "cell_type": "code",
   "execution_count": 5,
   "metadata": {},
   "outputs": [
    {
     "data": {
      "text/plain": [
       "array([ 0.1       ,  0.37606031,  1.41421356,  5.3182959 , 20.        ])"
      ]
     },
     "execution_count": 5,
     "metadata": {},
     "output_type": "execute_result"
    }
   ],
   "source": [
    "import numpy as np\n",
    "np.logspace(np.log10(0.1),np.log10(20),5)"
   ]
  },
  {
   "cell_type": "code",
   "execution_count": null,
   "metadata": {},
   "outputs": [],
   "source": []
  }
 ],
 "metadata": {
  "interpreter": {
   "hash": "f9f85f796d01129d0dd105a088854619f454435301f6ffec2fea96ecbd9be4ac"
  },
  "kernelspec": {
   "display_name": "Python 3.9.5 64-bit",
   "language": "python",
   "name": "python3"
  },
  "language_info": {
   "codemirror_mode": {
    "name": "ipython",
    "version": 3
   },
   "file_extension": ".py",
   "mimetype": "text/x-python",
   "name": "python",
   "nbconvert_exporter": "python",
   "pygments_lexer": "ipython3",
   "version": "3.8.10"
  },
  "orig_nbformat": 4
 },
 "nbformat": 4,
 "nbformat_minor": 2
}
