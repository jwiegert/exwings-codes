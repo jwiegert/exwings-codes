{
 "cells": [
  {
   "cell_type": "code",
   "execution_count": 1,
   "metadata": {},
   "outputs": [
    {
     "name": "stdout",
     "output_type": "stream",
     "text": [
      "Creating amr_grid with octree refinement.\n",
      "Number refinements: 4\n",
      "Size of base cell: 100 AU\n",
      "Number of base cells along one side of the grid: 9\n",
      "Warning, number of base cells is not even, it's now 10.\n",
      "\n",
      "Child cell size 0: 50.0 AU\n",
      "Child cell size 1: 25.0 AU\n",
      "Child cell size 2: 12.5 AU\n",
      "Child cell size 3: 6.25 AU\n"
     ]
    }
   ],
   "source": [
    "import create_r3d_functions as c3d\n",
    "\n",
    "c3d.create_grid(100,9,[100.0/2, 100.0/4, 100.0/8, 100.0/16])"
   ]
  },
  {
   "cell_type": "code",
   "execution_count": null,
   "metadata": {},
   "outputs": [],
   "source": []
  }
 ],
 "metadata": {
  "interpreter": {
   "hash": "f9f85f796d01129d0dd105a088854619f454435301f6ffec2fea96ecbd9be4ac"
  },
  "kernelspec": {
   "display_name": "Python 3.9.5 64-bit",
   "language": "python",
   "name": "python3"
  },
  "language_info": {
   "codemirror_mode": {
    "name": "ipython",
    "version": 3
   },
   "file_extension": ".py",
   "mimetype": "text/x-python",
   "name": "python",
   "nbconvert_exporter": "python",
   "pygments_lexer": "ipython3",
   "version": "3.8.10"
  },
  "orig_nbformat": 4
 },
 "nbformat": 4,
 "nbformat_minor": 2
}
