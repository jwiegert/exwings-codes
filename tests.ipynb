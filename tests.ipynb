{
 "cells": [
  {
   "cell_type": "code",
   "execution_count": null,
   "metadata": {},
   "outputs": [],
   "source": [
    "import create_r3d_functions as c3d\n",
    "\n",
    "basecell = 2\n",
    "c3d.create_grid(basecell,8,[\n",
    "        basecell,basecell*3/4,basecell*2/4,basecell*1/4\n",
    "    ]\n",
    ")\n",
    "\n"
   ]
  },
  {
   "cell_type": "code",
   "execution_count": 2,
   "metadata": {},
   "outputs": [],
   "source": [
    "from bhmie.makedustopac import *\n",
    "\n",
    "compute_opac_mie()\n",
    "\n"
   ]
  },
  {
   "cell_type": "code",
   "execution_count": 2,
   "metadata": {},
   "outputs": [
    {
     "name": "stdout",
     "output_type": "stream",
     "text": [
      "[1.00000000e-05 1.10520985e-05 1.22148882e-05 1.35000147e-05\n",
      " 1.49203493e-05 1.64901170e-05 1.82250398e-05 2.01424935e-05\n",
      " 2.22616822e-05 2.46038305e-05 2.71923959e-05 3.00533038e-05\n",
      " 3.32152074e-05 3.67097745e-05 4.05720044e-05 4.48405790e-05\n",
      " 4.95582496e-05 5.47722657e-05 6.05348477e-05 6.69037100e-05\n",
      " 7.39426394e-05 8.17221335e-05 9.03201070e-05 9.98226721e-05\n",
      " 1.10325001e-04 1.21932277e-04 1.34760754e-04 1.48938913e-04\n",
      " 1.64608754e-04 1.81927217e-04 2.01067752e-04 2.22222061e-04\n",
      " 2.45602011e-04 2.71441762e-04 3.00000109e-04 3.31563076e-04\n",
      " 3.66446778e-04 4.05000589e-04 4.47610641e-04 4.94703690e-04\n",
      " 5.46751392e-04 6.04275025e-04 6.67850710e-04 7.38115184e-04\n",
      " 8.15772173e-04 9.01599442e-04 9.96456586e-04 1.10129364e-03\n",
      " 1.21716057e-03 1.34521786e-03 1.48674803e-03 1.64316857e-03\n",
      " 1.81604609e-03 2.00711203e-03 2.21827999e-03 2.45166490e-03\n",
      " 2.70960420e-03 2.99468125e-03 3.30975122e-03 3.65796965e-03\n",
      " 4.04282410e-03 4.46816902e-03 4.93826442e-03 5.45781849e-03\n",
      " 6.03203476e-03 6.66666424e-03 7.36806300e-03 8.14325581e-03\n",
      " 9.00000655e-03 9.94689590e-03 1.09934073e-02 1.21500221e-02\n",
      " 1.34283241e-02 1.48411161e-02 1.64025477e-02 1.81282573e-02\n",
      " 2.00355286e-02 2.21434636e-02 2.44731741e-02 2.70479931e-02\n",
      " 2.98937084e-02 3.30388211e-02 3.65148305e-02 4.03565504e-02\n",
      " 4.46024571e-02 4.92950750e-02 5.44814025e-02 6.02133828e-02\n",
      " 6.65484238e-02 7.35499736e-02 8.12881554e-02 8.98404702e-02\n",
      " 9.92925727e-02 1.09739130e-01 1.21284767e-01 1.34045119e-01\n",
      " 1.48147987e-01 1.63734614e-01 1.80961109e-01 2.00000000e-01]\n"
     ]
    }
   ],
   "source": [
    "import analyze_r3d_functions as a3d\n",
    "import numpy as np\n",
    "\n",
    "wavelengths,nwave = a3d.load_wavelengthgrid()\n",
    "\n",
    "print(\n",
    "    np.array([\n",
    "        wavelength*1e-4 for wavelength in wavelengths\n",
    "    ])\n",
    ")"
   ]
  },
  {
   "cell_type": "code",
   "execution_count": 1,
   "metadata": {},
   "outputs": [
    {
     "ename": "ValueError",
     "evalue": "could not convert string to float: '0.1956945 1.7447700 0.0082800'",
     "output_type": "error",
     "traceback": [
      "\u001b[0;31m---------------------------------------------------------------------------\u001b[0m",
      "\u001b[0;31mValueError\u001b[0m                                Traceback (most recent call last)",
      "\u001b[1;32m/home/joachim/exwings/exwings-codes/tests.ipynb Cell 4'\u001b[0m in \u001b[0;36m<cell line: 4>\u001b[0;34m()\u001b[0m\n\u001b[1;32m      <a href='vscode-notebook-cell:/home/joachim/exwings/exwings-codes/tests.ipynb#ch0000003?line=0'>1</a>\u001b[0m \u001b[39mimport\u001b[39;00m \u001b[39mnumpy\u001b[39;00m \u001b[39mas\u001b[39;00m \u001b[39mnp\u001b[39;00m\n\u001b[1;32m      <a href='vscode-notebook-cell:/home/joachim/exwings/exwings-codes/tests.ipynb#ch0000003?line=1'>2</a>\u001b[0m \u001b[39mimport\u001b[39;00m \u001b[39mmatplotlib\u001b[39;00m\u001b[39m.\u001b[39;00m\u001b[39mpyplot\u001b[39;00m \u001b[39mas\u001b[39;00m \u001b[39mplt\u001b[39;00m\n\u001b[0;32m----> <a href='vscode-notebook-cell:/home/joachim/exwings/exwings-codes/tests.ipynb#ch0000003?line=3'>4</a>\u001b[0m mg2sio4 \u001b[39m=\u001b[39m np\u001b[39m.\u001b[39;49mloadtxt(\u001b[39m'\u001b[39;49m\u001b[39m../bhmie/lnk/mg2sio4.lnk\u001b[39;49m\u001b[39m'\u001b[39;49m,delimiter\u001b[39m=\u001b[39;49m\u001b[39m'\u001b[39;49m\u001b[39m,\u001b[39;49m\u001b[39m'\u001b[39;49m)\n\u001b[1;32m      <a href='vscode-notebook-cell:/home/joachim/exwings/exwings-codes/tests.ipynb#ch0000003?line=5'>6</a>\u001b[0m plt\u001b[39m.\u001b[39mplot(\u001b[39m1\u001b[39m\u001b[39m/\u001b[39mmg2sio4[:,\u001b[39m0\u001b[39m],mg2sio4[:,\u001b[39m1\u001b[39m])\n\u001b[1;32m      <a href='vscode-notebook-cell:/home/joachim/exwings/exwings-codes/tests.ipynb#ch0000003?line=6'>7</a>\u001b[0m plt\u001b[39m.\u001b[39mxscale(\u001b[39m'\u001b[39m\u001b[39mlog\u001b[39m\u001b[39m'\u001b[39m)\n",
      "File \u001b[0;32m/usr/lib/python3/dist-packages/numpy/lib/npyio.py:1146\u001b[0m, in \u001b[0;36mloadtxt\u001b[0;34m(fname, dtype, comments, delimiter, converters, skiprows, usecols, unpack, ndmin, encoding, max_rows)\u001b[0m\n\u001b[1;32m   <a href='file:///usr/lib/python3/dist-packages/numpy/lib/npyio.py?line=1140'>1141</a>\u001b[0m \u001b[39m# read data in chunks and fill it into an array via resize\u001b[39;00m\n\u001b[1;32m   <a href='file:///usr/lib/python3/dist-packages/numpy/lib/npyio.py?line=1141'>1142</a>\u001b[0m \u001b[39m# over-allocating and shrinking the array later may be faster but is\u001b[39;00m\n\u001b[1;32m   <a href='file:///usr/lib/python3/dist-packages/numpy/lib/npyio.py?line=1142'>1143</a>\u001b[0m \u001b[39m# probably not relevant compared to the cost of actually reading and\u001b[39;00m\n\u001b[1;32m   <a href='file:///usr/lib/python3/dist-packages/numpy/lib/npyio.py?line=1143'>1144</a>\u001b[0m \u001b[39m# converting the data\u001b[39;00m\n\u001b[1;32m   <a href='file:///usr/lib/python3/dist-packages/numpy/lib/npyio.py?line=1144'>1145</a>\u001b[0m X \u001b[39m=\u001b[39m \u001b[39mNone\u001b[39;00m\n\u001b[0;32m-> <a href='file:///usr/lib/python3/dist-packages/numpy/lib/npyio.py?line=1145'>1146</a>\u001b[0m \u001b[39mfor\u001b[39;00m x \u001b[39min\u001b[39;00m read_data(_loadtxt_chunksize):\n\u001b[1;32m   <a href='file:///usr/lib/python3/dist-packages/numpy/lib/npyio.py?line=1146'>1147</a>\u001b[0m     \u001b[39mif\u001b[39;00m X \u001b[39mis\u001b[39;00m \u001b[39mNone\u001b[39;00m:\n\u001b[1;32m   <a href='file:///usr/lib/python3/dist-packages/numpy/lib/npyio.py?line=1147'>1148</a>\u001b[0m         X \u001b[39m=\u001b[39m np\u001b[39m.\u001b[39marray(x, dtype)\n",
      "File \u001b[0;32m/usr/lib/python3/dist-packages/numpy/lib/npyio.py:1074\u001b[0m, in \u001b[0;36mloadtxt.<locals>.read_data\u001b[0;34m(chunk_size)\u001b[0m\n\u001b[1;32m   <a href='file:///usr/lib/python3/dist-packages/numpy/lib/npyio.py?line=1069'>1070</a>\u001b[0m     \u001b[39mraise\u001b[39;00m \u001b[39mValueError\u001b[39;00m(\u001b[39m\"\u001b[39m\u001b[39mWrong number of columns at line \u001b[39m\u001b[39m%d\u001b[39;00m\u001b[39m\"\u001b[39m\n\u001b[1;32m   <a href='file:///usr/lib/python3/dist-packages/numpy/lib/npyio.py?line=1070'>1071</a>\u001b[0m                      \u001b[39m%\u001b[39m line_num)\n\u001b[1;32m   <a href='file:///usr/lib/python3/dist-packages/numpy/lib/npyio.py?line=1072'>1073</a>\u001b[0m \u001b[39m# Convert each value according to its column and store\u001b[39;00m\n\u001b[0;32m-> <a href='file:///usr/lib/python3/dist-packages/numpy/lib/npyio.py?line=1073'>1074</a>\u001b[0m items \u001b[39m=\u001b[39m [conv(val) \u001b[39mfor\u001b[39;00m (conv, val) \u001b[39min\u001b[39;00m \u001b[39mzip\u001b[39m(converters, vals)]\n\u001b[1;32m   <a href='file:///usr/lib/python3/dist-packages/numpy/lib/npyio.py?line=1075'>1076</a>\u001b[0m \u001b[39m# Then pack it according to the dtype's nesting\u001b[39;00m\n\u001b[1;32m   <a href='file:///usr/lib/python3/dist-packages/numpy/lib/npyio.py?line=1076'>1077</a>\u001b[0m items \u001b[39m=\u001b[39m pack_items(items, packing)\n",
      "File \u001b[0;32m/usr/lib/python3/dist-packages/numpy/lib/npyio.py:1074\u001b[0m, in \u001b[0;36m<listcomp>\u001b[0;34m(.0)\u001b[0m\n\u001b[1;32m   <a href='file:///usr/lib/python3/dist-packages/numpy/lib/npyio.py?line=1069'>1070</a>\u001b[0m     \u001b[39mraise\u001b[39;00m \u001b[39mValueError\u001b[39;00m(\u001b[39m\"\u001b[39m\u001b[39mWrong number of columns at line \u001b[39m\u001b[39m%d\u001b[39;00m\u001b[39m\"\u001b[39m\n\u001b[1;32m   <a href='file:///usr/lib/python3/dist-packages/numpy/lib/npyio.py?line=1070'>1071</a>\u001b[0m                      \u001b[39m%\u001b[39m line_num)\n\u001b[1;32m   <a href='file:///usr/lib/python3/dist-packages/numpy/lib/npyio.py?line=1072'>1073</a>\u001b[0m \u001b[39m# Convert each value according to its column and store\u001b[39;00m\n\u001b[0;32m-> <a href='file:///usr/lib/python3/dist-packages/numpy/lib/npyio.py?line=1073'>1074</a>\u001b[0m items \u001b[39m=\u001b[39m [conv(val) \u001b[39mfor\u001b[39;00m (conv, val) \u001b[39min\u001b[39;00m \u001b[39mzip\u001b[39m(converters, vals)]\n\u001b[1;32m   <a href='file:///usr/lib/python3/dist-packages/numpy/lib/npyio.py?line=1075'>1076</a>\u001b[0m \u001b[39m# Then pack it according to the dtype's nesting\u001b[39;00m\n\u001b[1;32m   <a href='file:///usr/lib/python3/dist-packages/numpy/lib/npyio.py?line=1076'>1077</a>\u001b[0m items \u001b[39m=\u001b[39m pack_items(items, packing)\n",
      "File \u001b[0;32m/usr/lib/python3/dist-packages/numpy/lib/npyio.py:781\u001b[0m, in \u001b[0;36m_getconv.<locals>.floatconv\u001b[0;34m(x)\u001b[0m\n\u001b[1;32m    <a href='file:///usr/lib/python3/dist-packages/numpy/lib/npyio.py?line=778'>779</a>\u001b[0m \u001b[39mif\u001b[39;00m \u001b[39m'\u001b[39m\u001b[39m0x\u001b[39m\u001b[39m'\u001b[39m \u001b[39min\u001b[39;00m x:\n\u001b[1;32m    <a href='file:///usr/lib/python3/dist-packages/numpy/lib/npyio.py?line=779'>780</a>\u001b[0m     \u001b[39mreturn\u001b[39;00m \u001b[39mfloat\u001b[39m\u001b[39m.\u001b[39mfromhex(x)\n\u001b[0;32m--> <a href='file:///usr/lib/python3/dist-packages/numpy/lib/npyio.py?line=780'>781</a>\u001b[0m \u001b[39mreturn\u001b[39;00m \u001b[39mfloat\u001b[39;49m(x)\n",
      "\u001b[0;31mValueError\u001b[0m: could not convert string to float: '0.1956945 1.7447700 0.0082800'"
     ]
    }
   ],
   "source": [
    "import numpy as np\n",
    "import matplotlib.pyplot as plt\n",
    "\n",
    "mg2sio4 = np.loadtxt('../bhmie/lnk/mg2sio4.lnk',delimiter=' ')\n",
    "\n",
    "plt.plot(1/mg2sio4[:,0],mg2sio4[:,1])\n",
    "plt.xscale('log')\n",
    "plt.yscale('log')\n",
    "\n",
    "\n",
    "\n"
   ]
  },
  {
   "cell_type": "code",
   "execution_count": 1,
   "metadata": {},
   "outputs": [],
   "source": [
    "import opacity_r3d_functions as o3d\n",
    "\n",
    "\n",
    "o3d.create_kappaabs(\n",
    "    optconstlist=['al2o3porous','mg2sio4'],\n",
    "    agrainlist=[0.10,0.13,0.17,0.22,0.28,0.36,0.46,0.60,0.77,1.00]\n",
    ")"
   ]
  },
  {
   "cell_type": "code",
   "execution_count": 4,
   "metadata": {},
   "outputs": [
    {
     "data": {
      "text/plain": [
       "0.1"
      ]
     },
     "execution_count": 4,
     "metadata": {},
     "output_type": "execute_result"
    }
   ],
   "source": [
    "agrainlist=[0.10,0.13,0.17,0.22,0.28,0.36,0.46,0.60,0.77,1.00]\n",
    "\n",
    "max(agrainlist)/len(agrainlist)\n"
   ]
  },
  {
   "cell_type": "markdown",
   "metadata": {},
   "source": [
    "För proof of concept-koden:\n",
    "\n",
    "Använd dessa agrainum:\n",
    "\n",
    "Avrunda till 2 decimaler\n",
    "\n",
    "agrain      range\n",
    "\n",
    "0.10   0.074 - 0.135\n",
    "\n",
    "0.13   0.096 - 0.175\n",
    "\n",
    "0.17   0.129 - 0.229\n",
    "\n",
    "0.22   0.163 - 0.297\n",
    "\n",
    "0.28   0.207 - 0.378\n",
    "\n",
    "0.36   0.267 - 0.486\n",
    "\n",
    "0.46   0.341 - 0.621\n",
    "\n",
    "0.60   0.444 - 0.810\n",
    "\n",
    "0.77   0.570 - 1.039\n",
    "\n",
    "1.00   0.741 - 1.350"
   ]
  },
  {
   "cell_type": "code",
   "execution_count": null,
   "metadata": {},
   "outputs": [],
   "source": []
  }
 ],
 "metadata": {
  "interpreter": {
   "hash": "df0893f56f349688326838aaeea0de204df53a132722cbd565e54b24a8fec5f6"
  },
  "kernelspec": {
   "display_name": "Python 3.8.10 64-bit",
   "language": "python",
   "name": "python3"
  },
  "language_info": {
   "codemirror_mode": {
    "name": "ipython",
    "version": 3
   },
   "file_extension": ".py",
   "mimetype": "text/x-python",
   "name": "python",
   "nbconvert_exporter": "python",
   "pygments_lexer": "ipython3",
   "version": "3.8.10"
  },
  "orig_nbformat": 4
 },
 "nbformat": 4,
 "nbformat_minor": 2
}
