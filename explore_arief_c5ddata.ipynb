{
 "cells": [
  {
   "cell_type": "markdown",
   "metadata": {},
   "source": [
    "# Tests of \"reduced\" or \"approximated\" CO5BOLD-data\n",
    "\n",
    "- arief_st28gm06n052_ellipsoids/filled-mean-ellipsoids_st28gm06n052-032.pickle\n",
    "\n",
    "Ellipsoids with only average data throughout\n",
    "\n",
    "- arief_st28gm06n052_ellipsoids/filled-radialdistribution-ellipsoids_st28gm06n052-032.pickle\n",
    "\n",
    "Ellipsoids with 1/r^2 dependant \n",
    "\n",
    "## My method:\n",
    "\n",
    "- Load R3D-grid-file (csv with R, X, Y, Z coords of all R3D-cells)\n",
    "\n",
    "- Create an empty list corresponding to e.g. dust_density.inp\n",
    "\n",
    "- Loop through each ellipsoid's cell coordinates\n",
    "\n",
    "- Compare with R3D-coordinates\n",
    "\n",
    "- Save densities at appropiate positions in the dust_density.inp-list\n",
    "\n",
    "\n",
    "\n"
   ]
  },
  {
   "cell_type": "code",
   "execution_count": null,
   "metadata": {},
   "outputs": [],
   "source": [
    "#I have now uploaded two pickle files on the phy-exwings server, located in: \n",
    "# /home/ariah/dat/caucus (sidenote: caucus stands for ChAracterising dUst CloUdS hahaha):\n",
    "\n",
    "#    filled-mean-ellipsoids_st28gm06n052-032.pickle – ellipsoids filled in with \n",
    "#    mean values (i.e. uniform distribution)\n",
    "#    filled-radialdistribution-ellipsoids_st28gm06n052-032.pickle – ellipsoids \n",
    "#    filled in with an inverse radial distribution (e.g. gas density higher \n",
    "#    further away from the star)\n",
    "\n",
    " \n",
    "# These are for the snapshot 032 of the model st28gm06n052. I restructured the data \n",
    "# format following your suggestion yesterday, about separating each ellipsoids into\n",
    "# different arrays rather than having one big [679^3] domain – which saved a lot of\n",
    "# space! Now the data is mostly in a list of arrays. You can load the pickle files\n",
    "# as follows:\n",
    "\n",
    "###\n",
    "#\n",
    "#import pickle\n",
    "#\n",
    "#with open('[INSERTDIRECTORY]/filled-mean-ellipsoids_lists.pickle', 'rb') as handle:\n",
    "#    b = pickle.load(handle)\n",
    "#\n",
    "###\n",
    "\n",
    "# where you would have loaded a dictionary with the keys:\n",
    "\n",
    "#    'centre_ellipsoid' (2D array): indices of the centre of the ellipsoids [X,Y,Z]\n",
    "#    'distance_centre_grid' (1D array): distance from of the centre of the ellipsoids \n",
    "#       to the star (in cm)\n",
    "#    'coord_list' (list of arrays): each element in the list is an array of the \n",
    "#       relevant indices for the eliipsoids\n",
    "#    'coord_d_list' (list of arrays): each element in the list is an array of the \n",
    "#       distances from the star [X,Y,Z] (in cm)\n",
    "#    'filled_rho' (list of arrays): each element in the list is an array for the \n",
    "#       values of the gas density in each coordinate\n",
    "#    'filled_temp' (list of arrays): each element in the list is an array for the\n",
    "#       values of the temperature in each coordinate\n",
    "#    'filled_quc' (list of arrays): each element in the list is an array for the\n",
    "#       values of the condensation fraction in each coordinate\n",
    "#    'filled_nmonomer’ (list of arrays): each element in the list is an array for \n",
    "#       the values of the number of monomers in each coordinate\n",
    "\n",
    " \n",
    "# There are a total of 22 ellipsoids in this snapshot. If you would like the data\n",
    "# above in the format of the whole [679^3] domain, I have a small function which\n",
    "# can do this -- please refer to function attached. If things are confusing then\n",
    "# please let me know, we can look through the data together sometime today or\n",
    "# whenever you get to this! Thank you :- )\n",
    "\n",
    "# Important\n",
    "#    `filled_nmonomer’ should be the total number of monomers, per grain; per cell\n",
    "#    `filled_quc’ is actually just the monomer number density (cm-3); per cell\n",
    "\n",
    "\n"
   ]
  },
  {
   "cell_type": "code",
   "execution_count": 2,
   "metadata": {},
   "outputs": [],
   "source": [
    "# Load\n",
    "import pickle\n",
    "import numpy as np\n",
    "import matplotlib.pyplot as plt\n",
    "AUcm = 1.49598e13 # AU in cm cm\n",
    "\n",
    "\n",
    "#path = '../../exwings_archivedata/co5bold_data/st28gm06n052_arief_tests/filled-mean-ellipsoids_st28gm06n052-032.pickle'\n",
    "path = '../../exwings_archivedata/co5bold_data/st28gm06n052_arief_tests/filled-radialdistribution-ellipsoids_st28gm06n052-032.pickle'\n",
    "\n",
    "with open(path, 'rb') as f:\n",
    "    ellipsoid_dict = pickle.load(f)\n",
    "\n",
    "# Quick plots here\n",
    "# Translate to r3d-inp-files\n",
    "\n",
    "\n",
    "\n"
   ]
  },
  {
   "cell_type": "code",
   "execution_count": 7,
   "metadata": {},
   "outputs": [
    {
     "data": {
      "text/plain": [
       "[<matplotlib.lines.Line2D at 0x7f1becff6700>]"
      ]
     },
     "execution_count": 7,
     "metadata": {},
     "output_type": "execute_result"
    },
    {
     "data": {
      "image/png": "[encoded data removed]",
      "text/plain": [
       "<Figure size 432x288 with 1 Axes>"
      ]
     },
     "metadata": {
      "needs_background": "light"
     },
     "output_type": "display_data"
    }
   ],
   "source": [
    "# Quick check of coordinates of centre of ellipsoids\n",
    "\n",
    "print(ellipsoid_dict['centre_ellipsoid'])\n",
    "\n",
    "# X and Y\n",
    "plt.plot(\n",
    "    ellipsoid_dict['centre_ellipsoid'][:,0],\n",
    "    ellipsoid_dict['centre_ellipsoid'][:,1],\n",
    "    '.'\n",
    ")\n",
    "\n",
    "# X and Z\n",
    "plt.plot(\n",
    "    ellipsoid_dict['centre_ellipsoid'][:,0],\n",
    "    ellipsoid_dict['centre_ellipsoid'][:,2],\n",
    "    '.'\n",
    ")\n",
    "\n"
   ]
  },
  {
   "cell_type": "code",
   "execution_count": 9,
   "metadata": {},
   "outputs": [
    {
     "data": {
      "text/plain": [
       "array([3.77323325, 8.05164903, 8.98206196, 8.84119063, 9.33045007,\n",
       "       8.23908622, 8.11251765, 8.13898043, 7.690482  , 6.92586774,\n",
       "       8.82885578, 7.4305455 , 8.46003786, 8.61583901, 7.78322494,\n",
       "       7.40704681, 8.17899951, 9.1437802 , 7.93717229, 8.198699  ,\n",
       "       2.25307802, 6.89328836])"
      ]
     },
     "execution_count": 9,
     "metadata": {},
     "output_type": "execute_result"
    }
   ],
   "source": [
    "#    'distance_centre_grid' (1D array): distance from of the centre of the ellipsoids \n",
    "#       to the star (in cm)\n",
    "cloud_r_au = ellipsoid_dict['distance_centre_grid']/AUcm\n"
   ]
  },
  {
   "cell_type": "code",
   "execution_count": 15,
   "metadata": {},
   "outputs": [
    {
     "data": {
      "text/plain": [
       "[<matplotlib.lines.Line2D at 0x7f1bea3daa00>]"
      ]
     },
     "execution_count": 15,
     "metadata": {},
     "output_type": "execute_result"
    },
    {
     "data": {
      "image/png": "[encoded data removed]",
      "text/plain": [
       "<Figure size 432x288 with 1 Axes>"
      ]
     },
     "metadata": {
      "needs_background": "light"
     },
     "output_type": "display_data"
    }
   ],
   "source": [
    "#    'coord_list' (list of arrays): each element in the list is an array of the \n",
    "#       relevant indices for the eliipsoids\n",
    "\n",
    "# Plot XY-cell numbers in \n",
    "plt.plot(\n",
    "    ellipsoid_dict['coord_list'][0][:,0],\n",
    "    ellipsoid_dict['coord_list'][0][:,1],\n",
    "    '.'\n",
    ")\n",
    "\n",
    "# And a red dot for centre cell\n",
    "plt.plot(\n",
    "    ellipsoid_dict['centre_ellipsoid'][0,0],\n",
    "    ellipsoid_dict['centre_ellipsoid'][0,1],\n",
    "    'r.'\n",
    ")\n",
    "\n"
   ]
  },
  {
   "cell_type": "code",
   "execution_count": 29,
   "metadata": {},
   "outputs": [
    {
     "data": {
      "text/plain": [
       "[<matplotlib.lines.Line2D at 0x7f1be89eb0a0>]"
      ]
     },
     "execution_count": 29,
     "metadata": {},
     "output_type": "execute_result"
    },
    {
     "data": {
      "image/png": "[encoded data removed]",
      "text/plain": [
       "<Figure size 432x288 with 1 Axes>"
      ]
     },
     "metadata": {
      "needs_background": "light"
     },
     "output_type": "display_data"
    }
   ],
   "source": [
    "# Plot XY-cell numbers renomalised to zero? in \n",
    "plt.plot(\n",
    "    ellipsoid_dict['coord_list'][0][:,0] - ellipsoid_dict['centre_ellipsoid'][0,0],\n",
    "    ellipsoid_dict['coord_list'][0][:,1] - ellipsoid_dict['centre_ellipsoid'][0,1],\n",
    "    'b.'\n",
    ")\n",
    "\n",
    "# And a red dot for centre cell\n",
    "plt.plot(0,0,'r.'\n",
    ")\n"
   ]
  },
  {
   "cell_type": "code",
   "execution_count": 91,
   "metadata": {},
   "outputs": [
    {
     "name": "stdout",
     "output_type": "stream",
     "text": [
      "(561184, 3)\n"
     ]
    },
    {
     "data": {
      "image/png": "[encoded data removed]",
      "text/plain": [
       "<Figure size 432x288 with 1 Axes>"
      ]
     },
     "metadata": {
      "needs_background": "light"
     },
     "output_type": "display_data"
    }
   ],
   "source": [
    "#    'coord_d_list' (list of arrays): each element in the list is an array of the \n",
    "#       distances from the star [X,Y,Z] (in cm)\n",
    "\n",
    "\n",
    "cloud01_coords = ellipsoid_dict['coord_d_list'][0]/AUcm\n",
    "\n",
    "# Plot cloud 0's x-y coords in AU\n",
    "plt.plot(\n",
    "    cloud01_coords[:,0],\n",
    "    cloud01_coords[:,1],\n",
    "    'b.'\n",
    ")\n",
    "print(cloud01_coords.shape)"
   ]
  },
  {
   "cell_type": "code",
   "execution_count": 7,
   "metadata": {},
   "outputs": [
    {
     "name": "stdout",
     "output_type": "stream",
     "text": [
      "(561184,)\n",
      "(234647,)\n",
      "(81480,)\n",
      "(53787,)\n",
      "(13482,)\n",
      "(5918,)\n",
      "(6064,)\n",
      "(4172,)\n",
      "(2289,)\n",
      "(5646,)\n",
      "(2026,)\n",
      "(914,)\n",
      "(1318,)\n",
      "(456,)\n",
      "(1121,)\n",
      "(98,)\n",
      "(116,)\n",
      "(187,)\n",
      "(282,)\n",
      "(132,)\n",
      "(251,)\n",
      "(109,)\n"
     ]
    },
    {
     "data": {
      "image/png": "[encoded data removed]",
      "text/plain": [
       "<Figure size 432x288 with 1 Axes>"
      ]
     },
     "metadata": {
      "needs_background": "light"
     },
     "output_type": "display_data"
    }
   ],
   "source": [
    "#    'filled_rho' (list of arrays): each element in the list is an array for the \n",
    "#       values of the gas density in each coordinate\n",
    "for ncloud in range(22):\n",
    "    plt.plot(ellipsoid_dict['filled_rho'][ncloud],'.',markersize=1)\n",
    "    print(ellipsoid_dict['filled_rho'][ncloud].shape)\n",
    "plt.yscale('log')"
   ]
  },
  {
   "cell_type": "code",
   "execution_count": 5,
   "metadata": {},
   "outputs": [
    {
     "data": {
      "image/png": "[encoded data removed]",
      "text/plain": [
       "<Figure size 432x288 with 1 Axes>"
      ]
     },
     "metadata": {
      "needs_background": "light"
     },
     "output_type": "display_data"
    }
   ],
   "source": [
    "#    'filled_temp' (list of arrays): each element in the list is an array for the\n",
    "#       values of the temperature in each coordinate\n",
    "for ncloud in range(22):\n",
    "    plt.plot(ellipsoid_dict['filled_temp'][ncloud],'.',markersize=1)\n"
   ]
  },
  {
   "cell_type": "code",
   "execution_count": 9,
   "metadata": {},
   "outputs": [
    {
     "data": {
      "image/png": "[encoded data removed]",
      "text/plain": [
       "<Figure size 432x288 with 1 Axes>"
      ]
     },
     "metadata": {
      "needs_background": "light"
     },
     "output_type": "display_data"
    }
   ],
   "source": [
    "#    'filled_quc' (list of arrays): each element in the list is an array for the\n",
    "#       values of the condensation fraction in each coordinate\n",
    "for ncloud in range(22):\n",
    "    plt.plot(ellipsoid_dict['filled_quc'][ncloud],'.',markersize=1)\n",
    "plt.yscale('log')"
   ]
  },
  {
   "cell_type": "code",
   "execution_count": null,
   "metadata": {},
   "outputs": [],
   "source": [
    "# Plot dust-gas-ratio here to compare numbers\n",
    "\n",
    "import numpy as np\n",
    "import matplotlib.pyplot as plt\n",
    "\n",
    "gasdustratio = []\n",
    "\n",
    "for ncloud in range(22):\n",
    "    for data in ellipsoid_dict['filled_quc'][ncloud]/ellipsoid_dict['filled_rho'][ncloud]:\n",
    "        gasdustratio.append(data)\n",
    "plt.hist(gasdustratio,100);\n",
    "plt.xscale('log')\n"
   ]
  },
  {
   "cell_type": "code",
   "execution_count": null,
   "metadata": {},
   "outputs": [],
   "source": [
    "# Plot monomer number density here\n",
    "import numpy as np\n",
    "import matplotlib.pyplot as plt\n",
    "\n",
    "monomerdensity = []\n",
    "for ncloud in range(22):\n",
    "    for data in ellipsoid_dict['filled_quc'][ncloud]:\n",
    "        monomerdensity.append(data)\n",
    "\n",
    "print(f'1e{np.log10(np.min(monomerdensity))}')\n",
    "print(f'1e{np.log10(np.mean(monomerdensity))}')\n",
    "print(f'1e{np.log10(np.max(monomerdensity))}')\n",
    "\n",
    "#plt.plot(condensation,'.',markersize=1)\n",
    "#plt.yscale('log')\n",
    "\n",
    "plt.hist(monomerdensity,1000);\n",
    "plt.xscale('log')\n"
   ]
  },
  {
   "cell_type": "code",
   "execution_count": null,
   "metadata": {},
   "outputs": [],
   "source": [
    "# Plot dust density here\n",
    "import numpy as np\n",
    "import matplotlib.pyplot as plt\n",
    "\n",
    "monomermass = 2.3362e-22\n",
    "\n",
    "monomerdensity = []\n",
    "for ncloud in range(22):\n",
    "    for data in ellipsoid_dict['filled_quc'][ncloud]:\n",
    "        monomerdensity.append(data*monomermass)\n",
    "\n",
    "print(f'1e{np.log10(np.min(monomerdensity))}')\n",
    "print(f'1e{np.log10(np.mean(monomerdensity))}')\n",
    "print(f'1e{np.log10(np.max(monomerdensity))}')\n",
    "\n",
    "#plt.plot(condensation,'.',markersize=1)\n",
    "#plt.yscale('log')\n",
    "\n",
    "plt.hist(monomerdensity,1000);\n",
    "plt.xscale('log')"
   ]
  },
  {
   "cell_type": "code",
   "execution_count": 39,
   "metadata": {},
   "outputs": [
    {
     "name": "stdout",
     "output_type": "stream",
     "text": [
      "[0.02585142 0.05170284 0.10340568 0.10340568 0.10340568 0.10340568\n",
      " 0.10340568 0.10340568 0.10340568 0.10340568 0.10340568 0.10340568\n",
      " 0.10340568 0.10340568 0.10340568 0.10340568 0.10340568 0.10340568\n",
      " 0.10340568 0.10340568 0.10340568 0.10340568]\n"
     ]
    },
    {
     "data": {
      "image/png": "[encoded data removed]",
      "text/plain": [
       "<Figure size 432x288 with 1 Axes>"
      ]
     },
     "metadata": {
      "needs_background": "light"
     },
     "output_type": "display_data"
    },
    {
     "data": {
      "image/png": "[encoded data removed]",
      "text/plain": [
       "<Figure size 432x288 with 1 Axes>"
      ]
     },
     "metadata": {
      "needs_background": "light"
     },
     "output_type": "display_data"
    }
   ],
   "source": [
    "\n",
    "# Distance to ellispoids\n",
    "cloud_r_au = ellipsoid_dict['distance_centre_grid']/AUcm\n",
    "Ncloud = cloud_r_au.size\n",
    "\n",
    "\n",
    "cloud_sizes = np.zeros(Ncloud)\n",
    "cloud_sizes_minor = np.zeros(Ncloud)\n",
    "cell_sizes = np.zeros(Ncloud)\n",
    "\n",
    "for ncloud in range(Ncloud):\n",
    "\n",
    "    # Size of ellipsoids\n",
    "    cloud_sizes[ncloud] = np.array([\n",
    "        (np.array(ellipsoid_dict['coord_d_list'][ncloud][:,0].max()) - \\\n",
    "         np.array(ellipsoid_dict['coord_d_list'][ncloud][:,0].min()))/AUcm,\n",
    "        (np.array(ellipsoid_dict['coord_d_list'][ncloud][:,1].max()) - \\\n",
    "         np.array(ellipsoid_dict['coord_d_list'][ncloud][:,1].min()))/AUcm,\n",
    "        (np.array(ellipsoid_dict['coord_d_list'][ncloud][:,2].max()) - \\\n",
    "         np.array(ellipsoid_dict['coord_d_list'][ncloud][:,2].min()))/AUcm\n",
    "    ]).max()\n",
    "\n",
    "    cloud_sizes_minor[ncloud] = np.array([\n",
    "        (np.array(ellipsoid_dict['coord_d_list'][ncloud][:,0].max()) - \\\n",
    "         np.array(ellipsoid_dict['coord_d_list'][ncloud][:,0].min()))/AUcm,\n",
    "        (np.array(ellipsoid_dict['coord_d_list'][ncloud][:,1].max()) - \\\n",
    "         np.array(ellipsoid_dict['coord_d_list'][ncloud][:,1].min()))/AUcm,\n",
    "        (np.array(ellipsoid_dict['coord_d_list'][ncloud][:,2].max()) - \\\n",
    "         np.array(ellipsoid_dict['coord_d_list'][ncloud][:,2].min()))/AUcm\n",
    "    ]).min()\n",
    "\n",
    "\n",
    "    # Cell size at centre of cloud\n",
    "    cell_sizes[ncloud] = 0.4136227230610557\n",
    "    if cloud_r_au[ncloud] <= 13.203518763619835:\n",
    "        cell_sizes[ncloud] = 0.20681136153052784\n",
    "    if cloud_r_au[ncloud] <= 9.902639072714877:\n",
    "        cell_sizes[ncloud] = 0.10340568076526392\n",
    "    if cloud_r_au[ncloud] <= 6.601759381809917:\n",
    "        cell_sizes[ncloud] = 0.05170284038263196\n",
    "    if cloud_r_au[ncloud] <= 3.3008796909049587:\n",
    "        cell_sizes[ncloud] = 0.02585142019131598\n",
    "\n",
    "\n",
    "\n",
    "# Plot cloud size vs cloud \"number\"\n",
    "plt.figure(1)\n",
    "plt.plot(cloud_sizes,'b.')\n",
    "plt.plot(cloud_sizes_minor,'r.')\n",
    "for ncloud in range(Ncloud):\n",
    "    plt.plot(\n",
    "        [np.linspace(0,Ncloud-1,Ncloud)[ncloud],np.linspace(0,Ncloud-1,Ncloud)[ncloud]],\n",
    "        [cloud_sizes[ncloud],cloud_sizes_minor[ncloud]],'b-'\n",
    "    )\n",
    "\n",
    "\n",
    "# Plot cloud size vs radial distance to centre, and grid cell size\n",
    "plt.figure(2)\n",
    "for ncloud in range(Ncloud):\n",
    "    plt.plot(\n",
    "        [cloud_r_au[ncloud],cloud_r_au[ncloud]],\n",
    "        [cloud_sizes[ncloud],cloud_sizes_minor[ncloud]],'b-'\n",
    "    )\n",
    "plt.plot(cloud_r_au,cloud_sizes,'b.')\n",
    "plt.plot(cloud_r_au,cloud_sizes_minor,'r.')\n",
    "plt.plot(cloud_r_au,cell_sizes,'ro',markerfacecolor = 'w')\n",
    "plt.ylim(0,1)\n",
    "print(np.sort(cell_sizes))\n",
    "\n",
    "\n",
    "\n"
   ]
  },
  {
   "cell_type": "markdown",
   "metadata": {},
   "source": [
    "## Test to create dust_density.inp\n",
    "\n",
    "and other files"
   ]
  },
  {
   "cell_type": "code",
   "execution_count": 28,
   "metadata": {},
   "outputs": [],
   "source": [
    "# Load an r3d-grid\n",
    "import analyze_r3d_functions as a3d\n",
    "\n",
    "griddistances = a3d.load_griddistances(\n",
    "    gridpath = '../r3dresults/st28gm06n052_arief_tests/grid_distances.csv',\n",
    "    amrpath = '../r3dresults/st28gm06n052_arief_tests/amr_grid.inp',\n",
    ")\n",
    "cellsizes = a3d.load_cellsizes(\n",
    "    amrpath = '../r3dresults/st28gm06n052_arief_tests/amr_grid.inp',\n",
    "    sizepath = '../r3dresults/st28gm06n052_arief_tests/grid_cellsizes.csv',\n",
    ")\n",
    "nleafs = a3d.load_grid_properties(\n",
    "    amrpath = '../r3dresults/st28gm06n052_arief_tests/amr_grid.inp'\n",
    ")[2]\n",
    "\n"
   ]
  },
  {
   "cell_type": "code",
   "execution_count": null,
   "metadata": {},
   "outputs": [],
   "source": [
    "# Loop through coords of one of the ellipsoids and save in the r3d-grid\n",
    "# In cm\n",
    "import numpy as np\n",
    "import pickle\n",
    "import matplotlib.pyplot as plt\n",
    "import analyze_r3d_functions as a3d\n",
    "import os\n",
    "\n",
    "\n",
    "AUcm = 1.49598e13 # AU in cm cm\n",
    "monomermass = 2.3362e-22 # Forsterite mass in g\n",
    "\n",
    "\n",
    "\n",
    "print('Load data')\n",
    "\n",
    "# Load Ariefs pickles\n",
    "path = '../../exwings_archivedata/co5bold_data/st28gm06n052_arief_tests/filled-mean-ellipsoids_st28gm06n052-032.pickle'\n",
    "with open(path, 'rb') as f:\n",
    "    ellipsoid_dict = pickle.load(f)\n",
    "\n",
    "\n",
    "# Load an r3d-grid\n",
    "r3ddistances = a3d.load_griddistances(\n",
    "    gridpath = '../r3dresults/st28gm06n052_arief_tests/grid_distances.csv',\n",
    "    amrpath = '../r3dresults/st28gm06n052_arief_tests/amr_grid.inp',\n",
    ")\n",
    "r3dcellsizes = a3d.load_cellsizes(\n",
    "    amrpath = '../r3dresults/st28gm06n052_arief_tests/amr_grid.inp',\n",
    "    sizepath = '../r3dresults/st28gm06n052_arief_tests/grid_cellsizes.csv',\n",
    ")\n",
    "nleafs = a3d.load_grid_properties(\n",
    "    amrpath = '../r3dresults/st28gm06n052_arief_tests/amr_grid.inp'\n",
    ")[2]\n"
   ]
  },
  {
   "cell_type": "code",
   "execution_count": 1,
   "metadata": {},
   "outputs": [
    {
     "name": "stdout",
     "output_type": "stream",
     "text": [
      "Start time:\n",
      "tor 21 dec 2023 10:33:19 CET\n",
      "Loading data\n",
      "  There are 22 dust clouds:\n",
      "  Cloud 1 has 561184 c5d-cells.\n",
      "      and 359485 r3d-cells.\n",
      "  Cloud 2 has 234647 c5d-cells.\n",
      "      and 18295 r3d-cells.\n",
      "  Cloud 3 has 81480 c5d-cells.\n",
      "      and 7595 r3d-cells.\n",
      "  Cloud 4 has 53787 c5d-cells.\n",
      "      and 5460 r3d-cells.\n",
      "  Cloud 5 has 13482 c5d-cells.\n",
      "      and 1603 r3d-cells.\n",
      "  Cloud 6 has 5918 c5d-cells.\n",
      "      and 480 r3d-cells.\n",
      "  Cloud 7 has 6064 c5d-cells.\n",
      "      and 891 r3d-cells.\n",
      "  Cloud 8 has 4172 c5d-cells.\n",
      "      and 420 r3d-cells.\n",
      "  Cloud 9 has 2289 c5d-cells.\n",
      "      and 176 r3d-cells.\n",
      "  Cloud 10 has 5646 c5d-cells.\n",
      "      and 1173 r3d-cells.\n",
      "  Cloud 11 has 2026 c5d-cells.\n",
      "      and 420 r3d-cells.\n",
      "  Cloud 12 has 914 c5d-cells.\n",
      "      and 45 r3d-cells.\n",
      "  Cloud 13 has 1318 c5d-cells.\n",
      "      and 108 r3d-cells.\n",
      "  Cloud 14 has 456 c5d-cells.\n",
      "      and 30 r3d-cells.\n",
      "  Cloud 15 has 1121 c5d-cells.\n",
      "      and 132 r3d-cells.\n",
      "  Cloud 16 has 98 c5d-cells.\n",
      "      and 9 r3d-cells.\n",
      "  Cloud 17 has 116 c5d-cells.\n",
      "      and 8 r3d-cells.\n",
      "  Cloud 18 has 187 c5d-cells.\n",
      "      and 16 r3d-cells.\n",
      "  Cloud 19 has 282 c5d-cells.\n",
      "      and 8 r3d-cells.\n",
      "  Cloud 20 has 132 c5d-cells.\n",
      "      and 6 r3d-cells.\n",
      "  Cloud 21 has 251 c5d-cells.\n",
      "      and 910 r3d-cells.\n",
      "  Cloud 22 has 109 c5d-cells.\n",
      "      and 4 r3d-cells.\n",
      "  Computes grain sizes\n",
      "  Prints r3d-files\n",
      "Done at:\n",
      "tor 21 dec 2023 10:41:30 CET\n"
     ]
    }
   ],
   "source": [
    "import analyze_ellipsoidapprox as ael\n",
    "\n",
    "# filled-mean-ellipsoids_st28gm06n052-032.pickle\n",
    "# filled-radialdistribution-ellipsoids_st28gm06n052-032.pickle\n",
    "\n",
    "ael.create_dustapproximation(\n",
    "    picklepath = '../../exwings_archivedata/co5bold_data/st28gm06n052_arief_tests/filled-mean-ellipsoids_st28gm06n052-032.pickle'\n",
    ")\n"
   ]
  },
  {
   "cell_type": "code",
   "execution_count": 2,
   "metadata": {},
   "outputs": [
    {
     "name": "stdout",
     "output_type": "stream",
     "text": [
      "0.9004326654410133\n"
     ]
    },
    {
     "data": {
      "image/png": "[encoded data removed]",
      "text/plain": [
       "<Figure size 432x288 with 1 Axes>"
      ]
     },
     "metadata": {
      "needs_background": "light"
     },
     "output_type": "display_data"
    }
   ],
   "source": [
    "# Plot extracted grain sizes (before binning), in um\n",
    "import numpy as np\n",
    "import matplotlib.pyplot as plt\n",
    "\n",
    "grainsizes = np.loadtxt(\n",
    "    '../r3dresults/st28gm06n052_arief_tests/032_averages/grain_sizes_approx.dat'\n",
    ")*1e4\n",
    "grainsizes = grainsizes[np.where(grainsizes > 0)[0]]\n",
    "plt.hist(grainsizes,100)\n",
    "print(grainsizes.mean())\n"
   ]
  },
  {
   "cell_type": "code",
   "execution_count": 2,
   "metadata": {},
   "outputs": [
    {
     "name": "stdout",
     "output_type": "stream",
     "text": [
      "a5d.bin_grainsizes():\n",
      "    grain_sizes_binned_approx.dat\n",
      "DONE\n",
      "\n"
     ]
    }
   ],
   "source": [
    "# Bin grain sizes\n",
    "import analyze_co5bold_functions as a5d\n",
    "\n",
    "# 032_averages\n",
    "# 032_radialdist\n",
    "\n",
    "a5d.bin_grainsizes(\n",
    "    grainsizepath = '../r3dresults/st28gm06n052_arief_tests/032_averages/grain_sizes_approx.dat',\n",
    "    phase = 'approx'\n",
    ")\n",
    "\n"
   ]
  },
  {
   "cell_type": "code",
   "execution_count": 1,
   "metadata": {},
   "outputs": [
    {
     "name": "stdout",
     "output_type": "stream",
     "text": [
      "Start binning of density and temperature\n",
      "    Grain sizes are (um):\n",
      "[0.8053, 0.8166, 0.8279, 0.8392, 0.8843000000000001, 0.9069]\n",
      "yes\n",
      "create_optoolscript:\n",
      "    ../optool_script.sh\n",
      "    ../dustopac_{specie}_{phase}.inp\n",
      "DONE\n",
      "\n",
      "  writing ...\n",
      "  ../dust_density_approx_6bins.inp\n",
      "  ../dust_temperature_approx_6bins.dat\n",
      "DONE!\n"
     ]
    }
   ],
   "source": [
    "# Bin all inp-data and write optool-script and dustopac-file\n",
    "import analyze_ellipsoidapprox as ael\n",
    "\n",
    "#path = '../r3dresults/st28gm06n052_arief_tests/032_radialdist/'\n",
    "path = '../r3dresults/st28gm06n052_arief_tests/032_averages/'\n",
    "\n",
    "ael.bin_inpdata(\n",
    "    grainsizes_path = f'{path}grain_sizes_binned_approx.dat',\n",
    "    density_path = f'{path}dust_density_approx.inp',\n",
    "    temperature_path = f'{path}dust_temperature_approx.dat',\n",
    "    wavelength_path = f'{path}wavelength_micron.inp'\n",
    ")\n"
   ]
  },
  {
   "cell_type": "code",
   "execution_count": 5,
   "metadata": {},
   "outputs": [
    {
     "name": "stdout",
     "output_type": "stream",
     "text": [
      "Extracting species mg2sio4_7.386e-01\n",
      "Extracting species mg2sio4_7.659e-01\n",
      "Extracting species mg2sio4_7.933e-01\n",
      "Extracting species mg2sio4_8.206e-01\n",
      "Extracting species mg2sio4_8.480e-01\n",
      "Extracting species mg2sio4_9.300e-01\n",
      "Extracting species mg2sio4_9.573e-01\n",
      "Extracting species mg2sio4_9.847e-01\n"
     ]
    },
    {
     "data": {
      "text/plain": [
       "(<Figure size 432x936 with 4 Axes>,\n",
       " array([<matplotlib.axes._subplots.AxesSubplot object at 0x7f653a30d3d0>,\n",
       "        <matplotlib.axes._subplots.AxesSubplot object at 0x7f653a2faa30>,\n",
       "        <matplotlib.axes._subplots.AxesSubplot object at 0x7f653818eee0>,\n",
       "        <matplotlib.axes._subplots.AxesSubplot object at 0x7f65381b3970>],\n",
       "       dtype=object))"
      ]
     },
     "execution_count": 5,
     "metadata": {},
     "output_type": "execute_result"
    },
    {
     "data": {
      "image/png": "[encoded data removed]",
      "text/plain": [
       "<Figure size 432x936 with 4 Axes>"
      ]
     },
     "metadata": {
      "needs_background": "light"
     },
     "output_type": "display_data"
    }
   ],
   "source": [
    "# Test plot the binned grain size optical data\n",
    "import analyze_r3d_functions as a3d\n",
    "a3d.plot_allkappa(path = '../r3dresults/st28gm06n052_arief_tests/032_averages/')"
   ]
  },
  {
   "cell_type": "code",
   "execution_count": 4,
   "metadata": {},
   "outputs": [
    {
     "name": "stdout",
     "output_type": "stream",
     "text": [
      "9.847e-05\n",
      "9.847000000000001e-05\n",
      "9.847e-05\n",
      "True\n"
     ]
    }
   ],
   "source": [
    "import numpy as np\n",
    "\n",
    "path = '../r3dresults/st28gm06n052_arief_tests/032_radialdist/'\n",
    "grainsizes_path = f'{path}grain_sizes_binned_approx.dat'\n",
    "density_path = f'{path}dust_density_approx.inp'\n",
    "temperature_path = f'{path}dust_temperature_approx.dat'\n",
    "wavelength_path = f'{path}wavelength_micron.inp'\n",
    "\n",
    "\n",
    "# Load binned grain sizes per grid cell\n",
    "grainsizes_grid = []\n",
    "with open(grainsizes_path, 'r') as fgrainsizes:\n",
    "    for line in fgrainsizes.readlines():\n",
    "        if line[0] != '#':\n",
    "            grainsizes_grid.append(float(line))\n",
    "grainsizes_grid = np.array(grainsizes_grid)\n",
    "\n",
    "# Extract unique sizes\n",
    "grainsizes = np.unique(grainsizes_grid)\n",
    "# Only save the grainsizes that aren't zero\n",
    "grainsizes = grainsizes[np.where(grainsizes > 0)[0]]\n",
    "Nbins = len(grainsizes)\n",
    "# Save separate list with grainsizes in um\n",
    "grainsizes_list_um = grainsizes*1e4\n",
    "\n",
    "\n",
    "print(grainsizes[-1])\n",
    "print(grainsizes_list_um[-1]*1e-4)\n",
    "print(np.unique(grainsizes_grid)[-1])\n",
    "print(np.unique(grainsizes_grid)[-1] == grainsizes[-1])\n"
   ]
  },
  {
   "cell_type": "code",
   "execution_count": null,
   "metadata": {},
   "outputs": [],
   "source": []
  }
 ],
 "metadata": {
  "kernelspec": {
   "display_name": "Python 3",
   "language": "python",
   "name": "python3"
  },
  "language_info": {
   "codemirror_mode": {
    "name": "ipython",
    "version": 3
   },
   "file_extension": ".py",
   "mimetype": "text/x-python",
   "name": "python",
   "nbconvert_exporter": "python",
   "pygments_lexer": "ipython3",
   "version": "3.8.10"
  }
 },
 "nbformat": 4,
 "nbformat_minor": 2
}
