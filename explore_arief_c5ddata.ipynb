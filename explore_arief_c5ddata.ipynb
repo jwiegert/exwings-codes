{
 "cells": [
  {
   "cell_type": "markdown",
   "metadata": {},
   "source": [
    "# Tests of \"reduced\" or \"approximated\" CO5BOLD-data\n",
    "\n",
    "- arief_st28gm06n052_ellipsoids/filled-mean-ellipsoids_st28gm06n052-032.pickle\n",
    "\n",
    "Ellipsoids with only average data throughout\n",
    "\n",
    "- arief_st28gm06n052_ellipsoids/filled-radialdistribution-ellipsoids_st28gm06n052-032.pickle\n",
    "\n",
    "Ellipsoids with 1/r^2 dependant \n",
    "\n",
    "## My method:\n",
    "\n",
    "- Load R3D-grid-file (csv with R, X, Y, Z coords of all R3D-cells)\n",
    "\n",
    "- Create an empty list corresponding to e.g. dust_density.inp\n",
    "\n",
    "- Loop through each ellipsoid's cell coordinates\n",
    "\n",
    "- Compare with R3D-coordinates\n",
    "\n",
    "- Save densities at appropiate positions in the dust_density.inp-list\n",
    "\n",
    "\n",
    "\n"
   ]
  },
  {
   "cell_type": "code",
   "execution_count": null,
   "metadata": {},
   "outputs": [],
   "source": [
    "#I have now uploaded two pickle files on the phy-exwings server, located in: \n",
    "# /home/ariah/dat/caucus (sidenote: caucus stands for ChAracterising dUst CloUdS hahaha):\n",
    "\n",
    "#    filled-mean-ellipsoids_st28gm06n052-032.pickle – ellipsoids filled in with \n",
    "#    mean values (i.e. uniform distribution)\n",
    "#    filled-radialdistribution-ellipsoids_st28gm06n052-032.pickle – ellipsoids \n",
    "#    filled in with an inverse radial distribution (e.g. gas density higher \n",
    "#    further away from the star)\n",
    "\n",
    " \n",
    "# These are for the snapshot 032 of the model st28gm06n052. I restructured the data \n",
    "# format following your suggestion yesterday, about separating each ellipsoids into\n",
    "# different arrays rather than having one big [679^3] domain – which saved a lot of\n",
    "# space! Now the data is mostly in a list of arrays. You can load the pickle files\n",
    "# as follows:\n",
    "\n",
    "###\n",
    "\n",
    "import pickle\n",
    "\n",
    "with open('[INSERTDIRECTORY]/filled-mean-ellipsoids_lists.pickle', 'rb') as handle:\n",
    "    b = pickle.load(handle)\n",
    "\n",
    "###\n",
    "\n",
    "# where you would have loaded a dictionary with the keys:\n",
    "\n",
    "#    'centre_ellipsoid' (2D array): indices of the centre of the ellipsoids [X,Y,Z]\n",
    "#    'distance_centre_grid' (1D array): distance from of the centre of the ellipsoids \n",
    "#       to the star (in cm)\n",
    "#    'coord_list' (list of arrays): each element in the list is an array of the \n",
    "#       relevant indices for the eliipsoids\n",
    "#    'coord_d_list' (list of arrays): each element in the list is an array of the \n",
    "#       distances from the star [X,Y,Z] (in cm)\n",
    "#    'filled_rho' (list of arrays): each element in the list is an array for the \n",
    "#       values of the gas density in each coordinate\n",
    "#    'filled_temp' (list of arrays): each element in the list is an array for the\n",
    "#       values of the temperature in each coordinate\n",
    "#    'filled_quc' (list of arrays): each element in the list is an array for the\n",
    "#       values of the condensation fraction in each coordinate\n",
    "#    'filled_nmonomer’ (list of arrays): each element in the list is an array for \n",
    "#       the values of the number of monomers in each coordinate\n",
    "\n",
    " \n",
    "# There are a total of 22 ellipsoids in this snapshot. If you would like the data\n",
    "# above in the format of the whole [679^3] domain, I have a small function which\n",
    "# can do this -- please refer to function attached. If things are confusing then\n",
    "# please let me know, we can look through the data together sometime today or\n",
    "# whenever you get to this! Thank you :- )"
   ]
  },
  {
   "cell_type": "code",
   "execution_count": 5,
   "metadata": {},
   "outputs": [],
   "source": [
    "# Load\n",
    "import pickle\n",
    "import numpy as np\n",
    "import matplotlib.pyplot as plt\n",
    "AUcm = 1.49598e13 # AU in cm cm\n",
    "\n",
    "\n",
    "path = '../co5bold_data/st28gm06n052_arief_tests/filled-mean-ellipsoids_st28gm06n052-032.pickle'\n",
    "\n",
    "with open(path, 'rb') as f:\n",
    "    ellipsoid_dict = pickle.load(f)\n",
    "\n",
    "# Quick plots here\n",
    "# Translate to r3d-inp-files\n",
    "\n",
    "\n",
    "\n"
   ]
  },
  {
   "cell_type": "code",
   "execution_count": 7,
   "metadata": {},
   "outputs": [
    {
     "data": {
      "text/plain": [
       "[<matplotlib.lines.Line2D at 0x7f1becff6700>]"
      ]
     },
     "execution_count": 7,
     "metadata": {},
     "output_type": "execute_result"
    },
    {
     "data": {
      "image/png": "[encoded data removed]",
      "text/plain": [
       "<Figure size 432x288 with 1 Axes>"
      ]
     },
     "metadata": {
      "needs_background": "light"
     },
     "output_type": "display_data"
    }
   ],
   "source": [
    "# Quick check of coordinates of centre of ellipsoids\n",
    "\n",
    "print(ellipsoid_dict['centre_ellipsoid'])\n",
    "\n",
    "# X and Y\n",
    "plt.plot(\n",
    "    ellipsoid_dict['centre_ellipsoid'][:,0],\n",
    "    ellipsoid_dict['centre_ellipsoid'][:,1],\n",
    "    '.'\n",
    ")\n",
    "\n",
    "# X and Z\n",
    "plt.plot(\n",
    "    ellipsoid_dict['centre_ellipsoid'][:,0],\n",
    "    ellipsoid_dict['centre_ellipsoid'][:,2],\n",
    "    '.'\n",
    ")\n",
    "\n"
   ]
  },
  {
   "cell_type": "code",
   "execution_count": 9,
   "metadata": {},
   "outputs": [
    {
     "data": {
      "text/plain": [
       "array([3.77323325, 8.05164903, 8.98206196, 8.84119063, 9.33045007,\n",
       "       8.23908622, 8.11251765, 8.13898043, 7.690482  , 6.92586774,\n",
       "       8.82885578, 7.4305455 , 8.46003786, 8.61583901, 7.78322494,\n",
       "       7.40704681, 8.17899951, 9.1437802 , 7.93717229, 8.198699  ,\n",
       "       2.25307802, 6.89328836])"
      ]
     },
     "execution_count": 9,
     "metadata": {},
     "output_type": "execute_result"
    }
   ],
   "source": [
    "#    'distance_centre_grid' (1D array): distance from of the centre of the ellipsoids \n",
    "#       to the star (in cm)\n",
    "cloud_r_au = ellipsoid_dict['distance_centre_grid']/AUcm\n"
   ]
  },
  {
   "cell_type": "code",
   "execution_count": 15,
   "metadata": {},
   "outputs": [
    {
     "data": {
      "text/plain": [
       "[<matplotlib.lines.Line2D at 0x7f1bea3daa00>]"
      ]
     },
     "execution_count": 15,
     "metadata": {},
     "output_type": "execute_result"
    },
    {
     "data": {
      "image/png": "[encoded data removed]",
      "text/plain": [
       "<Figure size 432x288 with 1 Axes>"
      ]
     },
     "metadata": {
      "needs_background": "light"
     },
     "output_type": "display_data"
    }
   ],
   "source": [
    "#    'coord_list' (list of arrays): each element in the list is an array of the \n",
    "#       relevant indices for the eliipsoids\n",
    "\n",
    "# Plot XY-cell numbers in \n",
    "plt.plot(\n",
    "    ellipsoid_dict['coord_list'][0][:,0],\n",
    "    ellipsoid_dict['coord_list'][0][:,1],\n",
    "    '.'\n",
    ")\n",
    "\n",
    "# And a red dot for centre cell\n",
    "plt.plot(\n",
    "    ellipsoid_dict['centre_ellipsoid'][0,0],\n",
    "    ellipsoid_dict['centre_ellipsoid'][0,1],\n",
    "    'r.'\n",
    ")\n",
    "\n"
   ]
  },
  {
   "cell_type": "code",
   "execution_count": 29,
   "metadata": {},
   "outputs": [
    {
     "data": {
      "text/plain": [
       "[<matplotlib.lines.Line2D at 0x7f1be89eb0a0>]"
      ]
     },
     "execution_count": 29,
     "metadata": {},
     "output_type": "execute_result"
    },
    {
     "data": {
      "image/png": "[encoded data removed]",
      "text/plain": [
       "<Figure size 432x288 with 1 Axes>"
      ]
     },
     "metadata": {
      "needs_background": "light"
     },
     "output_type": "display_data"
    }
   ],
   "source": [
    "# Plot XY-cell numbers renomalised to zero? in \n",
    "plt.plot(\n",
    "    ellipsoid_dict['coord_list'][0][:,0] - ellipsoid_dict['centre_ellipsoid'][0,0],\n",
    "    ellipsoid_dict['coord_list'][0][:,1] - ellipsoid_dict['centre_ellipsoid'][0,1],\n",
    "    'b.'\n",
    ")\n",
    "\n",
    "# And a red dot for centre cell\n",
    "plt.plot(0,0,'r.'\n",
    ")\n"
   ]
  },
  {
   "cell_type": "code",
   "execution_count": 91,
   "metadata": {},
   "outputs": [
    {
     "name": "stdout",
     "output_type": "stream",
     "text": [
      "(561184, 3)\n"
     ]
    },
    {
     "data": {
      "image/png": "[encoded data removed]",
      "text/plain": [
       "<Figure size 432x288 with 1 Axes>"
      ]
     },
     "metadata": {
      "needs_background": "light"
     },
     "output_type": "display_data"
    }
   ],
   "source": [
    "#    'coord_d_list' (list of arrays): each element in the list is an array of the \n",
    "#       distances from the star [X,Y,Z] (in cm)\n",
    "\n",
    "\n",
    "cloud01_coords = ellipsoid_dict['coord_d_list'][0]/AUcm\n",
    "\n",
    "# Plot cloud 0's x-y coords in AU\n",
    "plt.plot(\n",
    "    cloud01_coords[:,0],\n",
    "    cloud01_coords[:,1],\n",
    "    'b.'\n",
    ")\n",
    "print(cloud01_coords.shape)"
   ]
  },
  {
   "cell_type": "code",
   "execution_count": 73,
   "metadata": {},
   "outputs": [
    {
     "name": "stdout",
     "output_type": "stream",
     "text": [
      "(561184,)\n"
     ]
    },
    {
     "data": {
      "image/png": "[encoded data removed]",
      "text/plain": [
       "<Figure size 432x288 with 1 Axes>"
      ]
     },
     "metadata": {
      "needs_background": "light"
     },
     "output_type": "display_data"
    }
   ],
   "source": [
    "#    'filled_rho' (list of arrays): each element in the list is an array for the \n",
    "#       values of the gas density in each coordinate\n",
    "plt.plot(ellipsoid_dict['filled_rho'][0],'.',markersize=1)\n",
    "print(ellipsoid_dict['filled_rho'][0].shape)\n"
   ]
  },
  {
   "cell_type": "code",
   "execution_count": 74,
   "metadata": {},
   "outputs": [
    {
     "data": {
      "text/plain": [
       "[<matplotlib.lines.Line2D at 0x7f1be8425f40>]"
      ]
     },
     "execution_count": 74,
     "metadata": {},
     "output_type": "execute_result"
    },
    {
     "data": {
      "image/png": "[encoded data removed]",
      "text/plain": [
       "<Figure size 432x288 with 1 Axes>"
      ]
     },
     "metadata": {
      "needs_background": "light"
     },
     "output_type": "display_data"
    }
   ],
   "source": [
    "#    'filled_temp' (list of arrays): each element in the list is an array for the\n",
    "#       values of the temperature in each coordinate\n",
    "plt.plot(ellipsoid_dict['filled_temp'][0],'.',markersize=1)\n"
   ]
  },
  {
   "cell_type": "code",
   "execution_count": 75,
   "metadata": {},
   "outputs": [
    {
     "data": {
      "text/plain": [
       "[<matplotlib.lines.Line2D at 0x7f1be83672b0>]"
      ]
     },
     "execution_count": 75,
     "metadata": {},
     "output_type": "execute_result"
    },
    {
     "data": {
      "image/png": "[encoded data removed]",
      "text/plain": [
       "<Figure size 432x288 with 1 Axes>"
      ]
     },
     "metadata": {
      "needs_background": "light"
     },
     "output_type": "display_data"
    }
   ],
   "source": [
    "#    'filled_quc' (list of arrays): each element in the list is an array for the\n",
    "#       values of the condensation fraction in each coordinate\n",
    "plt.plot(ellipsoid_dict['filled_quc'][0],'.',markersize=1)\n"
   ]
  },
  {
   "cell_type": "code",
   "execution_count": 89,
   "metadata": {},
   "outputs": [
    {
     "name": "stdout",
     "output_type": "stream",
     "text": [
      "(561184,)\n",
      "(561184, 3)\n"
     ]
    }
   ],
   "source": [
    "print(ellipsoid_dict['filled_nmonomer'][0].shape)\n",
    "print(cloud01_coords.shape)"
   ]
  },
  {
   "cell_type": "code",
   "execution_count": 78,
   "metadata": {},
   "outputs": [
    {
     "data": {
      "text/plain": [
       "[<matplotlib.lines.Line2D at 0x7f1be826a070>]"
      ]
     },
     "execution_count": 78,
     "metadata": {},
     "output_type": "execute_result"
    },
    {
     "data": {
      "image/png": "[encoded data removed]",
      "text/plain": [
       "<Figure size 432x288 with 1 Axes>"
      ]
     },
     "metadata": {
      "needs_background": "light"
     },
     "output_type": "display_data"
    }
   ],
   "source": [
    "#    'filled_nmonomer’ (list of arrays): each element in the list is an array for \n",
    "#       the values of the number of monomers in each coordinate\n",
    "plt.plot(ellipsoid_dict['filled_nmonomer'][0]*2.3362e-22,'.',markersize=1)\n"
   ]
  },
  {
   "cell_type": "code",
   "execution_count": 39,
   "metadata": {},
   "outputs": [
    {
     "name": "stdout",
     "output_type": "stream",
     "text": [
      "[0.02585142 0.05170284 0.10340568 0.10340568 0.10340568 0.10340568\n",
      " 0.10340568 0.10340568 0.10340568 0.10340568 0.10340568 0.10340568\n",
      " 0.10340568 0.10340568 0.10340568 0.10340568 0.10340568 0.10340568\n",
      " 0.10340568 0.10340568 0.10340568 0.10340568]\n"
     ]
    },
    {
     "data": {
      "image/png": "[encoded data removed]",
      "text/plain": [
       "<Figure size 432x288 with 1 Axes>"
      ]
     },
     "metadata": {
      "needs_background": "light"
     },
     "output_type": "display_data"
    },
    {
     "data": {
      "image/png": "[encoded data removed]",
      "text/plain": [
       "<Figure size 432x288 with 1 Axes>"
      ]
     },
     "metadata": {
      "needs_background": "light"
     },
     "output_type": "display_data"
    }
   ],
   "source": [
    "\n",
    "# Distance to ellispoids\n",
    "cloud_r_au = ellipsoid_dict['distance_centre_grid']/AUcm\n",
    "Ncloud = cloud_r_au.size\n",
    "\n",
    "\n",
    "cloud_sizes = np.zeros(Ncloud)\n",
    "cloud_sizes_minor = np.zeros(Ncloud)\n",
    "cell_sizes = np.zeros(Ncloud)\n",
    "\n",
    "for ncloud in range(Ncloud):\n",
    "\n",
    "    # Size of ellipsoids\n",
    "    cloud_sizes[ncloud] = np.array([\n",
    "        (np.array(ellipsoid_dict['coord_d_list'][ncloud][:,0].max()) - \\\n",
    "         np.array(ellipsoid_dict['coord_d_list'][ncloud][:,0].min()))/AUcm,\n",
    "        (np.array(ellipsoid_dict['coord_d_list'][ncloud][:,1].max()) - \\\n",
    "         np.array(ellipsoid_dict['coord_d_list'][ncloud][:,1].min()))/AUcm,\n",
    "        (np.array(ellipsoid_dict['coord_d_list'][ncloud][:,2].max()) - \\\n",
    "         np.array(ellipsoid_dict['coord_d_list'][ncloud][:,2].min()))/AUcm\n",
    "    ]).max()\n",
    "\n",
    "    cloud_sizes_minor[ncloud] = np.array([\n",
    "        (np.array(ellipsoid_dict['coord_d_list'][ncloud][:,0].max()) - \\\n",
    "         np.array(ellipsoid_dict['coord_d_list'][ncloud][:,0].min()))/AUcm,\n",
    "        (np.array(ellipsoid_dict['coord_d_list'][ncloud][:,1].max()) - \\\n",
    "         np.array(ellipsoid_dict['coord_d_list'][ncloud][:,1].min()))/AUcm,\n",
    "        (np.array(ellipsoid_dict['coord_d_list'][ncloud][:,2].max()) - \\\n",
    "         np.array(ellipsoid_dict['coord_d_list'][ncloud][:,2].min()))/AUcm\n",
    "    ]).min()\n",
    "\n",
    "\n",
    "    # Cell size at centre of cloud\n",
    "    cell_sizes[ncloud] = 0.4136227230610557\n",
    "    if cloud_r_au[ncloud] <= 13.203518763619835:\n",
    "        cell_sizes[ncloud] = 0.20681136153052784\n",
    "    if cloud_r_au[ncloud] <= 9.902639072714877:\n",
    "        cell_sizes[ncloud] = 0.10340568076526392\n",
    "    if cloud_r_au[ncloud] <= 6.601759381809917:\n",
    "        cell_sizes[ncloud] = 0.05170284038263196\n",
    "    if cloud_r_au[ncloud] <= 3.3008796909049587:\n",
    "        cell_sizes[ncloud] = 0.02585142019131598\n",
    "\n",
    "\n",
    "\n",
    "# Plot cloud size vs cloud \"number\"\n",
    "plt.figure(1)\n",
    "plt.plot(cloud_sizes,'b.')\n",
    "plt.plot(cloud_sizes_minor,'r.')\n",
    "for ncloud in range(Ncloud):\n",
    "    plt.plot(\n",
    "        [np.linspace(0,Ncloud-1,Ncloud)[ncloud],np.linspace(0,Ncloud-1,Ncloud)[ncloud]],\n",
    "        [cloud_sizes[ncloud],cloud_sizes_minor[ncloud]],'b-'\n",
    "    )\n",
    "\n",
    "\n",
    "# Plot cloud size vs radial distance to centre, and grid cell size\n",
    "plt.figure(2)\n",
    "for ncloud in range(Ncloud):\n",
    "    plt.plot(\n",
    "        [cloud_r_au[ncloud],cloud_r_au[ncloud]],\n",
    "        [cloud_sizes[ncloud],cloud_sizes_minor[ncloud]],'b-'\n",
    "    )\n",
    "plt.plot(cloud_r_au,cloud_sizes,'b.')\n",
    "plt.plot(cloud_r_au,cloud_sizes_minor,'r.')\n",
    "plt.plot(cloud_r_au,cell_sizes,'ro',markerfacecolor = 'w')\n",
    "plt.ylim(0,1)\n",
    "print(np.sort(cell_sizes))\n",
    "\n",
    "\n",
    "\n"
   ]
  },
  {
   "cell_type": "markdown",
   "metadata": {},
   "source": [
    "## Test to create dust_density.inp\n",
    "\n",
    "and other files"
   ]
  },
  {
   "cell_type": "code",
   "execution_count": 28,
   "metadata": {},
   "outputs": [],
   "source": [
    "# Load an r3d-grid\n",
    "import analyze_r3d_functions as a3d\n",
    "\n",
    "griddistances = a3d.load_griddistances(\n",
    "    gridpath = '../r3dresults/st28gm06n052_arief_tests/grid_distances.csv',\n",
    "    amrpath = '../r3dresults/st28gm06n052_arief_tests/amr_grid.inp',\n",
    ")\n",
    "cellsizes = a3d.load_cellsizes(\n",
    "    amrpath = '../r3dresults/st28gm06n052_arief_tests/amr_grid.inp',\n",
    "    sizepath = '../r3dresults/st28gm06n052_arief_tests/grid_cellsizes.csv',\n",
    ")\n",
    "nleafs = a3d.load_grid_properties(\n",
    "    amrpath = '../r3dresults/st28gm06n052_arief_tests/amr_grid.inp'\n",
    ")[2]\n",
    "\n"
   ]
  },
  {
   "cell_type": "code",
   "execution_count": 1,
   "metadata": {},
   "outputs": [
    {
     "name": "stdout",
     "output_type": "stream",
     "text": [
      "20\n",
      "21\n"
     ]
    }
   ],
   "source": [
    "for nn in range(22-2,22):\n",
    "    print(nn)"
   ]
  },
  {
   "cell_type": "code",
   "execution_count": 1,
   "metadata": {},
   "outputs": [
    {
     "name": "stdout",
     "output_type": "stream",
     "text": [
      "Load data\n",
      "There are 22 dust clouds:\n",
      "  Cloud 1 has 561184 c5d-cells.\n",
      "  Cloud 2 has 234647 c5d-cells.\n",
      "  Cloud 3 has 81480 c5d-cells.\n",
      "  Cloud 4 has 53787 c5d-cells.\n",
      "  Cloud 5 has 13482 c5d-cells.\n",
      "  Cloud 6 has 5918 c5d-cells.\n",
      "  Cloud 7 has 6064 c5d-cells.\n",
      "  Cloud 8 has 4172 c5d-cells.\n",
      "  Cloud 9 has 2289 c5d-cells.\n",
      "  Cloud 10 has 5646 c5d-cells.\n",
      "  Cloud 11 has 2026 c5d-cells.\n",
      "  Cloud 12 has 914 c5d-cells.\n",
      "  Cloud 13 has 1318 c5d-cells.\n",
      "  Cloud 14 has 456 c5d-cells.\n",
      "  Cloud 15 has 1121 c5d-cells.\n",
      "  Cloud 16 has 98 c5d-cells.\n",
      "  Cloud 17 has 116 c5d-cells.\n",
      "  Cloud 18 has 187 c5d-cells.\n",
      "  Cloud 19 has 282 c5d-cells.\n",
      "  Cloud 20 has 132 c5d-cells.\n",
      "  Cloud 21 has 251 c5d-cells.\n",
      "  Cloud 22 has 109 c5d-cells.\n",
      "     1 percent done.\n"
     ]
    }
   ],
   "source": [
    "# Loop through coords of one of the ellipsoids and save in the r3d-grid\n",
    "# In cm\n",
    "import numpy as np\n",
    "import pickle\n",
    "import numpy as np\n",
    "import matplotlib.pyplot as plt\n",
    "import analyze_r3d_functions as a3d\n",
    "\n",
    "\n",
    "AUcm = 1.49598e13 # AU in cm cm\n",
    "monomermass = 2.3362e-22 # Forsterite mass in g\n",
    "\n",
    "\n",
    "print('Load data')\n",
    "\n",
    "# Load Ariefs pickles\n",
    "path = '../../exwings_archivedata/co5bold_data/st28gm06n052_arief_tests/filled-mean-ellipsoids_st28gm06n052-032.pickle'\n",
    "with open(path, 'rb') as f:\n",
    "    ellipsoid_dict = pickle.load(f)\n",
    "\n",
    "\n",
    "# Load an r3d-grid\n",
    "griddistances = a3d.load_griddistances(\n",
    "    gridpath = '../r3dresults/st28gm06n052_arief_tests/grid_distances.csv',\n",
    "    amrpath = '../r3dresults/st28gm06n052_arief_tests/amr_grid.inp',\n",
    ")\n",
    "cellsizes = a3d.load_cellsizes(\n",
    "    amrpath = '../r3dresults/st28gm06n052_arief_tests/amr_grid.inp',\n",
    "    sizepath = '../r3dresults/st28gm06n052_arief_tests/grid_cellsizes.csv',\n",
    ")\n",
    "nleafs = a3d.load_grid_properties(\n",
    "    amrpath = '../r3dresults/st28gm06n052_arief_tests/amr_grid.inp'\n",
    ")[2]\n",
    "\n",
    "# Declare arrays\n",
    "# This was faster than looping through whole grid, writing zeros, again and again\n",
    "r3d_densities = np.zeros(nleafs)\n",
    "r3d_temperatures = np.zeros(nleafs)\n",
    "r3d_condenfrac = np.zeros(nleafs)\n",
    "r3d_mincellsize = cellsizes.min()\n",
    "\n",
    "\n",
    "# Should loop over each ellipsoid here\n",
    "Nellipsoids = ellipsoid_dict['distance_centre_grid'].size\n",
    "print(f'There are {Nellipsoids} dust clouds:')\n",
    "\n",
    "\n",
    "\n",
    "\n",
    "# Extract all c5d coords to the same lists\n",
    "cloud_coordsX = []\n",
    "cloud_coordsY = []\n",
    "cloud_coordsZ = []\n",
    "\n",
    "cloud_densities = []\n",
    "# and cloud temperatures etc\n",
    "\n",
    "# Loop through each cloud and append to these lists\n",
    "for nellipsoid in range(Nellipsoids):\n",
    "\n",
    "    Nc5d = ellipsoid_dict['coord_d_list'][nellipsoid][:,0].size\n",
    "    print(f'  Cloud {nellipsoid+1} has {Nc5d} c5d-cells.')\n",
    "\n",
    "    for nc5d in range(Nc5d):\n",
    "        cloud_coordsX.append(ellipsoid_dict['coord_d_list'][nellipsoid][nc5d,0])\n",
    "        cloud_coordsY.append(ellipsoid_dict['coord_d_list'][nellipsoid][nc5d,1])\n",
    "        cloud_coordsZ.append(ellipsoid_dict['coord_d_list'][nellipsoid][nc5d,2])\n",
    "\n",
    "        cloud_densities.append(ellipsoid_dict['filled_nmonomer'][nellipsoid][nc5d])\n",
    "\n",
    "# Change lists to np-arrays for simplicty later with argwhere and so on\n",
    "cloud_coordsX = np.array(cloud_coordsX)\n",
    "cloud_coordsY = np.array(cloud_coordsY)\n",
    "cloud_coordsZ = np.array(cloud_coordsZ)\n",
    "\n",
    "cloud_densities = np.array(cloud_densities)\n",
    "\n",
    "# Then loop through r3d-grid and put these in the r3d-grid\n",
    "progresscounter = 0\n",
    "percentagecounter = 5\n",
    "\n",
    "\n",
    "for nr3d in range(nleafs):\n",
    "\n",
    "\n",
    "    if np.round(nr3d/nleafs*100) ==  1 and progresscounter == 0:\n",
    "        print('     1 percent done.')\n",
    "        progresscounter += 1\n",
    "    if np.round(nr3d/nleafs*100) ==  5 and progresscounter == 1:\n",
    "        print('     5 percent done.')\n",
    "        progresscounter += 1\n",
    "    if np.round(nr3d/nleafs*100) == 10 and progresscounter == 2:\n",
    "        print('    10 percent done.')\n",
    "        progresscounter += 1\n",
    "    if np.round(nr3d/nleafs*100) == 15 and progresscounter == 3:\n",
    "        print('    15 percent done.')\n",
    "        progresscounter += 1\n",
    "    if np.round(nr3d/nleafs*100) == 20 and progresscounter == 4:\n",
    "        print('    20 percent done.')\n",
    "        progresscounter += 1\n",
    "    if np.round(nr3d/nleafs*100) == 25 and progresscounter == 5:\n",
    "        print('    25 percent done.')\n",
    "        progresscounter += 1\n",
    "    if np.round(nr3d/nleafs*100) == 50 and progresscounter == 6:\n",
    "        print('    50 percent done.')\n",
    "        progresscounter += 1\n",
    "    if np.round(nr3d/nleafs*100) == 75 and progresscounter == 7:\n",
    "        print('    75 percent done.')\n",
    "        progresscounter += 1\n",
    "\n",
    "\n",
    "    # Extract size range for current r3dcell\n",
    "    r3dxrange = [\n",
    "        griddistances[nr3d,1]-0.5*cellsizes[nr3d],\n",
    "        griddistances[nr3d,1]+0.5*cellsizes[nr3d]\n",
    "    ]\n",
    "    r3dyrange = [\n",
    "        griddistances[nr3d,2]-0.5*cellsizes[nr3d],\n",
    "        griddistances[nr3d,2]+0.5*cellsizes[nr3d]\n",
    "    ]\n",
    "    r3dzrange = [\n",
    "        griddistances[nr3d,3]-0.5*cellsizes[nr3d],\n",
    "        griddistances[nr3d,3]+0.5*cellsizes[nr3d]\n",
    "    ]       \n",
    "\n",
    "    # Extract indeces of all c5dcells within current r3dcell\n",
    "    c5dindeces = np.argwhere(\n",
    "        (cloud_coordsX >= r3dxrange[0]) & (cloud_coordsX <= r3dxrange[1]) & \\\n",
    "        (cloud_coordsY >= r3dyrange[0]) & (cloud_coordsY <= r3dyrange[1]) & \\\n",
    "        (cloud_coordsZ >= r3dzrange[0]) & (cloud_coordsZ <= r3dzrange[1])\n",
    "    )\n",
    "\n",
    "    # Take average density of all densities in these cells\n",
    "    if c5dindeces.size > 0:\n",
    "        print(f'Number of c5d-cells in r3d-cell {nr3d}: {c5dindeces}')\n",
    "\n",
    "        r3d_densities[nr3d] = cloud_densities[c5dindeces].mean() * monomermass\n",
    "        #r3d_temperatures[nr3d] = cloud_temperatures[c5dindeces].mean()\n",
    "        #r3d_condenfrac[nr3d] = cloud_condenfrac[c5dindeces].mean()\n",
    " \n",
    "\n",
    "\n",
    "# Write density file\n",
    "print('prints densities')\n",
    "\n",
    "with open(f'../dust_density_arief032.inp', 'w') as fdensity:\n",
    "\n",
    "    # Write headers:\n",
    "    #\n",
    "    # Density:\n",
    "    # 1\n",
    "    # nleafs\n",
    "    # number dust species\n",
    "    fdensity.write(f'1\\n{int(nleafs)}\\n1\\n')\n",
    "\n",
    "    for density in r3d_densities:\n",
    "        fdensity.write(f'{density}\\n')\n",
    "\n",
    "# Takes 15min 18s (for first cloud)\n",
    "# 18 for all?\n"
   ]
  },
  {
   "cell_type": "code",
   "execution_count": 40,
   "metadata": {},
   "outputs": [
    {
     "name": "stdout",
     "output_type": "stream",
     "text": [
      "  Cloud 1 has 561184 cells.\n",
      "  Cloud 2 has 234647 cells.\n",
      "  Cloud 3 has 81480 cells.\n",
      "  Cloud 4 has 53787 cells.\n",
      "  Cloud 5 has 13482 cells.\n",
      "  Cloud 6 has 5918 cells.\n",
      "  Cloud 7 has 6064 cells.\n",
      "  Cloud 8 has 4172 cells.\n",
      "  Cloud 9 has 2289 cells.\n",
      "  Cloud 10 has 5646 cells.\n",
      "  Cloud 11 has 2026 cells.\n",
      "  Cloud 12 has 914 cells.\n",
      "  Cloud 13 has 1318 cells.\n",
      "  Cloud 14 has 456 cells.\n",
      "  Cloud 15 has 1121 cells.\n",
      "  Cloud 16 has 98 cells.\n",
      "  Cloud 17 has 116 cells.\n",
      "  Cloud 18 has 187 cells.\n",
      "  Cloud 19 has 282 cells.\n",
      "  Cloud 20 has 132 cells.\n",
      "  Cloud 21 has 251 cells.\n",
      "  Cloud 22 has 109 cells.\n"
     ]
    }
   ],
   "source": [
    "cloud_coordsX = []\n",
    "cloud_coordsY = []\n",
    "cloud_coordsZ = []\n",
    "\n",
    "cloud_densities = []\n",
    "\n",
    "for nellipsoid in range(Nellipsoids):\n",
    "\n",
    "    Nc5d = ellipsoid_dict['coord_d_list'][nellipsoid][:,0].size\n",
    "    print(f'  Cloud {nellipsoid+1} has {Nc5d} c5d-cells.')\n",
    "\n",
    "    for nc5d in range(Nc5d):\n",
    "        cloud_coordsX.append(ellipsoid_dict['coord_d_list'][nellipsoid][nc5d,0])\n",
    "        cloud_coordsY.append(ellipsoid_dict['coord_d_list'][nellipsoid][nc5d,1])\n",
    "        cloud_coordsZ.append(ellipsoid_dict['coord_d_list'][nellipsoid][nc5d,2])\n",
    "\n",
    "\n",
    "        cloud_densities.append(ellipsoid_dict['filled_nmonomer'][nellipsoid][nc5d])\n",
    "cloud_coordsX = np.array(cloud_coordsX)\n",
    "cloud_coordsY = np.array(cloud_coordsY)\n",
    "cloud_coordsZ = np.array(cloud_coordsZ)\n",
    "\n",
    "cloud_coords = np.zeros((len(cloud_coordsX),3))\n",
    "cloud_coords[:,0] = cloud_coordsX\n",
    "cloud_coords[:,1] = cloud_coordsY\n",
    "cloud_coords[:,2] = cloud_coordsZ\n"
   ]
  },
  {
   "cell_type": "code",
   "execution_count": 6,
   "metadata": {},
   "outputs": [
    {
     "name": "stdout",
     "output_type": "stream",
     "text": [
      "Load data\n"
     ]
    },
    {
     "ename": "KeyboardInterrupt",
     "evalue": "",
     "output_type": "error",
     "traceback": [
      "\u001b[0;31m---------------------------------------------------------------------------\u001b[0m",
      "\u001b[0;31mKeyboardInterrupt\u001b[0m                         Traceback (most recent call last)",
      "\u001b[1;32m/home/joachim/exwings/exwings-codes/explore_arief_c5ddata.ipynb Cell 20\u001b[0m line \u001b[0;36m<cell line: 21>\u001b[0;34m()\u001b[0m\n\u001b[1;32m     <a href='vscode-notebook-cell:/home/joachim/exwings/exwings-codes/explore_arief_c5ddata.ipynb#X30sZmlsZQ%3D%3D?line=16'>17</a>\u001b[0m     ellipsoid_dict \u001b[39m=\u001b[39m pickle\u001b[39m.\u001b[39mload(f)\n\u001b[1;32m     <a href='vscode-notebook-cell:/home/joachim/exwings/exwings-codes/explore_arief_c5ddata.ipynb#X30sZmlsZQ%3D%3D?line=19'>20</a>\u001b[0m \u001b[39m# Load an r3d-grid\u001b[39;00m\n\u001b[0;32m---> <a href='vscode-notebook-cell:/home/joachim/exwings/exwings-codes/explore_arief_c5ddata.ipynb#X30sZmlsZQ%3D%3D?line=20'>21</a>\u001b[0m griddistances \u001b[39m=\u001b[39m a3d\u001b[39m.\u001b[39;49mload_griddistances(\n\u001b[1;32m     <a href='vscode-notebook-cell:/home/joachim/exwings/exwings-codes/explore_arief_c5ddata.ipynb#X30sZmlsZQ%3D%3D?line=21'>22</a>\u001b[0m     gridpath \u001b[39m=\u001b[39;49m \u001b[39m'\u001b[39;49m\u001b[39m../r3dresults/st28gm06n052_arief_tests/grid_distances.csv\u001b[39;49m\u001b[39m'\u001b[39;49m,\n\u001b[1;32m     <a href='vscode-notebook-cell:/home/joachim/exwings/exwings-codes/explore_arief_c5ddata.ipynb#X30sZmlsZQ%3D%3D?line=22'>23</a>\u001b[0m     amrpath \u001b[39m=\u001b[39;49m \u001b[39m'\u001b[39;49m\u001b[39m../r3dresults/st28gm06n052_arief_tests/amr_grid.inp\u001b[39;49m\u001b[39m'\u001b[39;49m,\n\u001b[1;32m     <a href='vscode-notebook-cell:/home/joachim/exwings/exwings-codes/explore_arief_c5ddata.ipynb#X30sZmlsZQ%3D%3D?line=23'>24</a>\u001b[0m )\n\u001b[1;32m     <a href='vscode-notebook-cell:/home/joachim/exwings/exwings-codes/explore_arief_c5ddata.ipynb#X30sZmlsZQ%3D%3D?line=24'>25</a>\u001b[0m cellsizes \u001b[39m=\u001b[39m a3d\u001b[39m.\u001b[39mload_cellsizes(\n\u001b[1;32m     <a href='vscode-notebook-cell:/home/joachim/exwings/exwings-codes/explore_arief_c5ddata.ipynb#X30sZmlsZQ%3D%3D?line=25'>26</a>\u001b[0m     amrpath \u001b[39m=\u001b[39m \u001b[39m'\u001b[39m\u001b[39m../r3dresults/st28gm06n052_arief_tests/amr_grid.inp\u001b[39m\u001b[39m'\u001b[39m,\n\u001b[1;32m     <a href='vscode-notebook-cell:/home/joachim/exwings/exwings-codes/explore_arief_c5ddata.ipynb#X30sZmlsZQ%3D%3D?line=26'>27</a>\u001b[0m     sizepath \u001b[39m=\u001b[39m \u001b[39m'\u001b[39m\u001b[39m../r3dresults/st28gm06n052_arief_tests/grid_cellsizes.csv\u001b[39m\u001b[39m'\u001b[39m,\n\u001b[1;32m     <a href='vscode-notebook-cell:/home/joachim/exwings/exwings-codes/explore_arief_c5ddata.ipynb#X30sZmlsZQ%3D%3D?line=27'>28</a>\u001b[0m )\n\u001b[1;32m     <a href='vscode-notebook-cell:/home/joachim/exwings/exwings-codes/explore_arief_c5ddata.ipynb#X30sZmlsZQ%3D%3D?line=28'>29</a>\u001b[0m nleafs \u001b[39m=\u001b[39m a3d\u001b[39m.\u001b[39mload_grid_properties(\n\u001b[1;32m     <a href='vscode-notebook-cell:/home/joachim/exwings/exwings-codes/explore_arief_c5ddata.ipynb#X30sZmlsZQ%3D%3D?line=29'>30</a>\u001b[0m     amrpath \u001b[39m=\u001b[39m \u001b[39m'\u001b[39m\u001b[39m../r3dresults/st28gm06n052_arief_tests/amr_grid.inp\u001b[39m\u001b[39m'\u001b[39m\n\u001b[1;32m     <a href='vscode-notebook-cell:/home/joachim/exwings/exwings-codes/explore_arief_c5ddata.ipynb#X30sZmlsZQ%3D%3D?line=30'>31</a>\u001b[0m )[\u001b[39m2\u001b[39m]\n",
      "File \u001b[0;32m~/exwings/exwings-codes/analyze_r3d_functions.py:303\u001b[0m, in \u001b[0;36mload_griddistances\u001b[0;34m(gridpath, amrpath)\u001b[0m\n\u001b[1;32m    297\u001b[0m \u001b[39mfor\u001b[39;00m row \u001b[39min\u001b[39;00m griddistancesfile:\n\u001b[1;32m    298\u001b[0m \n\u001b[1;32m    299\u001b[0m     \u001b[39m# Skip the header and add radial, x,y,z distances to array\u001b[39;00m\n\u001b[1;32m    300\u001b[0m     \u001b[39mif\u001b[39;00m row[\u001b[39m0\u001b[39m][\u001b[39m-\u001b[39m\u001b[39m1\u001b[39m]\u001b[39m.\u001b[39misdigit() \u001b[39m==\u001b[39m \u001b[39mTrue\u001b[39;00m:\n\u001b[1;32m    301\u001b[0m         \n\u001b[1;32m    302\u001b[0m         \u001b[39m# Save radial, x, y, z distances (in this order)\u001b[39;00m\n\u001b[0;32m--> 303\u001b[0m         griddistances[nn,:] \u001b[39m=\u001b[39m [\u001b[39mfloat\u001b[39m(row[\u001b[39m0\u001b[39m]),\u001b[39mfloat\u001b[39m(row[\u001b[39m1\u001b[39m]),\u001b[39mfloat\u001b[39m(row[\u001b[39m2\u001b[39m]),\u001b[39mfloat\u001b[39m(row[\u001b[39m3\u001b[39m])]\n\u001b[1;32m    304\u001b[0m         \u001b[39m# Increase index\u001b[39;00m\n\u001b[1;32m    305\u001b[0m         nn \u001b[39m+\u001b[39m\u001b[39m=\u001b[39m \u001b[39m1\u001b[39m\n",
      "\u001b[0;31mKeyboardInterrupt\u001b[0m: "
     ]
    }
   ],
   "source": [
    "import numpy as np\n",
    "import pickle\n",
    "import numpy as np\n",
    "import matplotlib.pyplot as plt\n",
    "import analyze_r3d_functions as a3d\n",
    "\n",
    "\n",
    "AUcm = 1.49598e13 # AU in cm cm\n",
    "monomermass = 2.3362e-22 # Forsterite mass in g\n",
    "\n",
    "\n",
    "print('Load data')\n",
    "\n",
    "# Load Ariefs pickles\n",
    "path = '../co5bold_data/st28gm06n052_arief_tests/filled-mean-ellipsoids_st28gm06n052-032.pickle'\n",
    "with open(path, 'rb') as f:\n",
    "    ellipsoid_dict = pickle.load(f)\n",
    "\n",
    "\n",
    "# Load an r3d-grid\n",
    "griddistances = a3d.load_griddistances(\n",
    "    gridpath = '../r3dresults/st28gm06n052_arief_tests/grid_distances.csv',\n",
    "    amrpath = '../r3dresults/st28gm06n052_arief_tests/amr_grid.inp',\n",
    ")\n",
    "cellsizes = a3d.load_cellsizes(\n",
    "    amrpath = '../r3dresults/st28gm06n052_arief_tests/amr_grid.inp',\n",
    "    sizepath = '../r3dresults/st28gm06n052_arief_tests/grid_cellsizes.csv',\n",
    ")\n",
    "nleafs = a3d.load_grid_properties(\n",
    "    amrpath = '../r3dresults/st28gm06n052_arief_tests/amr_grid.inp'\n",
    ")[2]\n"
   ]
  },
  {
   "cell_type": "code",
   "execution_count": 2,
   "metadata": {},
   "outputs": [
    {
     "name": "stdout",
     "output_type": "stream",
     "text": [
      "There are 22 dust clouds:\n",
      "561184\n",
      "234647\n",
      "81480\n",
      "53787\n",
      "13482\n",
      "5918\n",
      "6064\n",
      "4172\n",
      "2289\n",
      "5646\n",
      "2026\n",
      "914\n",
      "1318\n",
      "456\n",
      "1121\n",
      "98\n",
      "116\n",
      "187\n",
      "282\n",
      "132\n",
      "251\n",
      "109\n"
     ]
    },
    {
     "data": {
      "text/plain": [
       "[<matplotlib.lines.Line2D at 0x7f574b50a250>]"
      ]
     },
     "execution_count": 2,
     "metadata": {},
     "output_type": "execute_result"
    },
    {
     "data": {
      "image/png": "[encoded data removed]",
      "text/plain": [
       "<Figure size 432x288 with 1 Axes>"
      ]
     },
     "metadata": {
      "needs_background": "light"
     },
     "output_type": "display_data"
    }
   ],
   "source": [
    "\n",
    "# Declare arrays\n",
    "# This was faster than looping through whole grid, writing zeros, again and again\n",
    "r3d_densities = np.zeros(nleafs)\n",
    "r3d_temperatures = np.zeros(nleafs)\n",
    "r3d_condenfrac = np.zeros(nleafs)\n",
    "r3d_mincellsize = cellsizes.min()\n",
    "\n",
    "\n",
    "# Should loop over each ellipsoid here\n",
    "Nellipsoids = ellipsoid_dict['distance_centre_grid'].size\n",
    "print(f'There are {Nellipsoids} dust clouds:')\n",
    "\n",
    "\n",
    "\n",
    "# Extract all c5d coords to the same lists\n",
    "cloud_coordsX = []\n",
    "cloud_coordsY = []\n",
    "cloud_coordsZ = []\n",
    "cloud_densities = []\n",
    "\n",
    "for nellipsoid in range(Nellipsoids):\n",
    "\n",
    "    Nc5d = ellipsoid_dict['coord_d_list'][nellipsoid][:,0].size\n",
    "    print(Nc5d)\n",
    "\n",
    "    for nc5d in range(Nc5d):\n",
    "        cloud_coordsX.append(ellipsoid_dict['coord_d_list'][nellipsoid][nc5d,0]/AUcm)\n",
    "        cloud_coordsY.append(ellipsoid_dict['coord_d_list'][nellipsoid][nc5d,1]/AUcm)\n",
    "        cloud_coordsZ.append(ellipsoid_dict['coord_d_list'][nellipsoid][nc5d,2]/AUcm)\n",
    "\n",
    "        cloud_densities.append(ellipsoid_dict['filled_nmonomer'][nellipsoid][nc5d])\n",
    "\n",
    "\n",
    "plt.plot(cloud_coordsX,cloud_densities,'b.')\n"
   ]
  },
  {
   "cell_type": "code",
   "execution_count": null,
   "metadata": {},
   "outputs": [],
   "source": []
  }
 ],
 "metadata": {
  "kernelspec": {
   "display_name": "Python 3",
   "language": "python",
   "name": "python3"
  },
  "language_info": {
   "codemirror_mode": {
    "name": "ipython",
    "version": 3
   },
   "file_extension": ".py",
   "mimetype": "text/x-python",
   "name": "python",
   "nbconvert_exporter": "python",
   "pygments_lexer": "ipython3",
   "version": "3.8.10"
  }
 },
 "nbformat": 4,
 "nbformat_minor": 2
}
